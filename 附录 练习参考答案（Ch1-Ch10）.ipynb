{
 "cells": [
  {
   "cell_type": "markdown",
   "metadata": {},
   "source": [
    "## 习题参考答案\n",
    "\n",
    "### Ch1\n",
    "练习 1"
   ]
  },
  {
   "cell_type": "code",
   "execution_count": 1,
   "metadata": {},
   "outputs": [
    {
     "name": "stdout",
     "output_type": "stream",
     "text": [
      "nice 2 meet you\n"
     ]
    }
   ],
   "source": [
    "print('nice ' + '2 ' + 'meet ' + 'you')"
   ]
  },
  {
   "cell_type": "markdown",
   "metadata": {},
   "source": [
    "练习 2"
   ]
  },
  {
   "cell_type": "code",
   "execution_count": 2,
   "metadata": {},
   "outputs": [
    {
     "name": "stdout",
     "output_type": "stream",
     "text": [
      "<class 'float'>\n"
     ]
    }
   ],
   "source": [
    "print(type(3 + 3.0))"
   ]
  },
  {
   "cell_type": "markdown",
   "metadata": {},
   "source": [
    "计算结果是浮点型数据。"
   ]
  },
  {
   "cell_type": "markdown",
   "metadata": {},
   "source": [
    "练习 3"
   ]
  },
  {
   "cell_type": "code",
   "execution_count": 3,
   "metadata": {},
   "outputs": [
    {
     "name": "stdout",
     "output_type": "stream",
     "text": [
      "3\n"
     ]
    }
   ],
   "source": [
    "print(True + 2)"
   ]
  },
  {
   "cell_type": "code",
   "execution_count": 4,
   "metadata": {},
   "outputs": [
    {
     "name": "stdout",
     "output_type": "stream",
     "text": [
      "2\n"
     ]
    }
   ],
   "source": [
    "print(False + 2)"
   ]
  },
  {
   "cell_type": "markdown",
   "metadata": {},
   "source": [
    "True 等价 1，False 等价 0"
   ]
  },
  {
   "cell_type": "markdown",
   "metadata": {},
   "source": [
    "### Ch2\n",
    "练习 2"
   ]
  },
  {
   "cell_type": "markdown",
   "metadata": {},
   "source": [
    "相当于画一个 360 边形，看起来是一个圆。"
   ]
  },
  {
   "cell_type": "markdown",
   "metadata": {},
   "source": [
    "练习 3"
   ]
  },
  {
   "cell_type": "code",
   "execution_count": 10,
   "metadata": {},
   "outputs": [],
   "source": [
    "import turtle\n",
    "\n",
    "tony = turtle.Turtle()\n",
    "for i in range(13):\n",
    "    l = (i + 1) * 10\n",
    "    tony.forward(l)\n",
    "    tony.left(90)\n",
    "turtle.done()\n",
    "\n",
    "# 解决在 Jupyter Notebook 第二次运行出错的方法\n",
    "# https://github.com/spyder-ide/spyder/wiki/How-to-run-turtle-scripts-within-Spyder\n",
    "try:\n",
    "    turtle.bye()\n",
    "except turtle.Terminator:\n",
    "    pass"
   ]
  },
  {
   "cell_type": "markdown",
   "metadata": {},
   "source": [
    "### Ch3\n",
    "练习 1"
   ]
  },
  {
   "cell_type": "code",
   "execution_count": null,
   "metadata": {},
   "outputs": [],
   "source": [
    "while a < 6:\n",
    "    print(a ** 2)\n",
    "    a = a + 1"
   ]
  },
  {
   "cell_type": "markdown",
   "metadata": {},
   "source": [
    "练习 2"
   ]
  },
  {
   "cell_type": "code",
   "execution_count": null,
   "metadata": {},
   "outputs": [],
   "source": [
    "import random\n",
    "\n",
    "a = random.randint(1, 6)\n",
    "if a == 1:\n",
    "    print('平凡的一天')\n",
    "elif a == 2:\n",
    "    print('今天有点 2')\n",
    "elif a == 3:\n",
    "    print('2333')\n",
    "elif a == 4:\n",
    "    print('今天可能不太顺利')\n",
    "elif a == 5:\n",
    "    print('有好事发生')\n",
    "else:\n",
    "    print('666，诸事大吉')"
   ]
  },
  {
   "cell_type": "markdown",
   "metadata": {},
   "source": [
    "练习 3"
   ]
  },
  {
   "cell_type": "code",
   "execution_count": 2,
   "metadata": {},
   "outputs": [
    {
     "name": "stdout",
     "output_type": "stream",
     "text": [
      "55\n"
     ]
    }
   ],
   "source": [
    "a = 1\n",
    "sum = 0\n",
    "\n",
    "while a < 11:\n",
    "    sum += a\n",
    "    a += 1\n",
    "print(sum)"
   ]
  },
  {
   "cell_type": "markdown",
   "metadata": {},
   "source": [
    "### Ch4\n",
    "练习 1"
   ]
  },
  {
   "cell_type": "code",
   "execution_count": 4,
   "metadata": {},
   "outputs": [],
   "source": [
    "import turtle\n",
    "\n",
    "tony = turtle.Turtle()\n",
    "for i in range(2):\n",
    "    tony.forward(80)\n",
    "    tony.right(60)\n",
    "    tony.forward(80)\n",
    "    tony.right(120)\n",
    "turtle.done()\n",
    "\n",
    "# 解决在 Jupyter Notebook 第二次运行出错的方法\n",
    "# https://github.com/spyder-ide/spyder/wiki/How-to-run-turtle-scripts-within-Spyder\n",
    "try:\n",
    "    turtle.bye()   \n",
    "except turtle.Terminator:\n",
    "    pass"
   ]
  },
  {
   "cell_type": "markdown",
   "metadata": {},
   "source": [
    "练习 2"
   ]
  },
  {
   "cell_type": "code",
   "execution_count": 3,
   "metadata": {},
   "outputs": [],
   "source": [
    "import turtle\n",
    "\n",
    "tony = turtle.Turtle()\n",
    "n = 3\n",
    "for i in range(n):\n",
    "    for j in range(2):\n",
    "        tony.forward(80)\n",
    "        tony.right(60)\n",
    "        tony.forward(80)\n",
    "        tony.right(120)\n",
    "    tony.right(360/n)\n",
    "turtle.done()\n",
    "\n",
    "# 解决在 Jupyter Notebook 第二次运行出错的方法\n",
    "# https://github.com/spyder-ide/spyder/wiki/How-to-run-turtle-scripts-within-Spyder\n",
    "try:\n",
    "    turtle.bye()   \n",
    "except turtle.Terminator:\n",
    "    pass"
   ]
  },
  {
   "cell_type": "markdown",
   "metadata": {},
   "source": [
    "练习 3"
   ]
  },
  {
   "cell_type": "code",
   "execution_count": 5,
   "metadata": {},
   "outputs": [],
   "source": [
    "import turtle\n",
    "\n",
    "tony = turtle.Turtle()\n",
    "n = 6\n",
    "for i in range(n):\n",
    "    for j in range(2):\n",
    "        tony.forward(80)\n",
    "        tony.right(60)\n",
    "        tony.forward(80)\n",
    "        tony.right(120)\n",
    "    tony.right(360/n)\n",
    "turtle.done()\n",
    "\n",
    "# 解决在 Jupyter Notebook 第二次运行出错的方法\n",
    "# https://github.com/spyder-ide/spyder/wiki/How-to-run-turtle-scripts-within-Spyder\n",
    "try:\n",
    "    turtle.bye()   \n",
    "except turtle.Terminator:\n",
    "    pass"
   ]
  },
  {
   "cell_type": "markdown",
   "metadata": {},
   "source": [
    "### Ch5 \n",
    "练习 1"
   ]
  },
  {
   "cell_type": "code",
   "execution_count": 7,
   "metadata": {},
   "outputs": [
    {
     "name": "stdout",
     "output_type": "stream",
     "text": [
      "24.0\n",
      "24.0\n"
     ]
    }
   ],
   "source": [
    "num = [6, 8]\n",
    "price = [2, 1.5]\n",
    "cost = num[0] * price[0] + num[1] * price[1]\n",
    "print(cost)\n",
    "\n",
    "num1 = {'apple':6, 'banana':8}\n",
    "price = {'apple':2, 'banana':1.5}\n",
    "cost1 = num1['apple'] * price['apple'] + num1['banana'] * price['banana']\n",
    "print(cost1)"
   ]
  },
  {
   "cell_type": "markdown",
   "metadata": {},
   "source": [
    "练习 2"
   ]
  },
  {
   "cell_type": "code",
   "execution_count": 12,
   "metadata": {},
   "outputs": [],
   "source": [
    "import turtle\n",
    "\n",
    "tony = turtle.Turtle()\n",
    "pos = [-210, -70, 70, 210]\n",
    "tony.pensize(8)\n",
    "tony.pencolor('gray')\n",
    "for i in range(len(pos)):\n",
    "    tony.up()\n",
    "    tony.goto((pos[i], -50))\n",
    "    tony.down()\n",
    "    tony.circle(90)\n",
    "turtle.done()\n",
    "\n",
    "# 解决在 Jupyter Notebook 第二次运行出错的方法\n",
    "# https://github.com/spyder-ide/spyder/wiki/How-to-run-turtle-scripts-within-Spyder\n",
    "try:\n",
    "    turtle.bye()   \n",
    "except turtle.Terminator:\n",
    "    pass"
   ]
  },
  {
   "cell_type": "markdown",
   "metadata": {},
   "source": [
    "练习 3"
   ]
  },
  {
   "cell_type": "code",
   "execution_count": 11,
   "metadata": {},
   "outputs": [],
   "source": [
    "import turtle\n",
    "\n",
    "tony = turtle.Turtle()\n",
    "n = 10  # 边数\n",
    "m = 10  # 画多边形的次数\n",
    "colors = ['red', 'orange', 'yellow', 'green', 'blue', 'indigo', 'violet']\n",
    "for j in range(m):\n",
    "    for i in range(n):\n",
    "        tony.pencolor(colors[i%len(colors)])\n",
    "        tony.forward(80)\n",
    "        tony.right(360 / n)\n",
    "    tony.right(360 / m)\n",
    "turtle.done()\n",
    "\n",
    "# 解决在 Jupyter Notebook 第二次运行出错的方法\n",
    "# https://github.com/spyder-ide/spyder/wiki/How-to-run-turtle-scripts-within-Spyder\n",
    "try:\n",
    "    turtle.bye()   \n",
    "except turtle.Terminator:\n",
    "    pass"
   ]
  },
  {
   "cell_type": "markdown",
   "metadata": {},
   "source": [
    "练习 4"
   ]
  },
  {
   "cell_type": "code",
   "execution_count": 9,
   "metadata": {},
   "outputs": [],
   "source": [
    "import turtle\n",
    "\n",
    "tony = turtle.Turtle()\n",
    "colors = ['red', 'orange', 'yellow', 'green', 'blue', 'indigo', 'violet']\n",
    "tony.pensize(5)  # 设定画笔的粗细\n",
    "for i in range(len(colors)):\n",
    "    tony.pencolor(colors[i])\n",
    "    tony.circle(100)\n",
    "    tony.left(360 / len(colors))\n",
    "\n",
    "turtle.done()\n",
    "\n",
    "# 解决在 Jupyter Notebook 第二次运行出错的方法\n",
    "# https://github.com/spyder-ide/spyder/wiki/How-to-run-turtle-scripts-within-Spyder\n",
    "try:\n",
    "    turtle.bye()   \n",
    "except turtle.Terminator:\n",
    "    pass"
   ]
  },
  {
   "cell_type": "markdown",
   "metadata": {},
   "source": [
    "### Ch6\n",
    "练习 1"
   ]
  },
  {
   "cell_type": "code",
   "execution_count": 13,
   "metadata": {
    "scrolled": true
   },
   "outputs": [
    {
     "name": "stdout",
     "output_type": "stream",
     "text": [
      "6\n"
     ]
    }
   ],
   "source": [
    "def multiply(a, b):\n",
    "    c = a * b\n",
    "    return c\n",
    "\n",
    "result = multiply(2, 3)\n",
    "print(result)"
   ]
  },
  {
   "cell_type": "markdown",
   "metadata": {},
   "source": [
    "练习 2"
   ]
  },
  {
   "cell_type": "code",
   "execution_count": 14,
   "metadata": {},
   "outputs": [
    {
     "name": "stdout",
     "output_type": "stream",
     "text": [
      "(2, 3, 6)\n"
     ]
    }
   ],
   "source": [
    "def multiply(a, b):\n",
    "    c = a * b\n",
    "    return a, b, c\n",
    " \n",
    "result = multiply(2, 3)\n",
    "print(result)"
   ]
  },
  {
   "cell_type": "markdown",
   "metadata": {},
   "source": [
    "练习 3"
   ]
  },
  {
   "cell_type": "code",
   "execution_count": 15,
   "metadata": {},
   "outputs": [],
   "source": [
    "import turtle\n",
    "import random\n",
    "\n",
    "tony = turtle.Turtle()\n",
    "color = ['red', 'orange', 'yellow', 'green', 'blue', 'indigo', 'violet']\n",
    "tony.speed('fastest')  # 设置画笔的速度为最快\n",
    "\n",
    "def multi_polygon(num, l):\n",
    "    for j in range(10):\n",
    "        x = random.randint(-200, 200)  # 生成[-200, 200]范围内的随机整数\n",
    "        y = random.randint(-200, 200)\n",
    "        tony.penup()\n",
    "        tony.goto(x, y)\n",
    "        tony.pencolor(random.choice(color))  # random.choice() 能从列表中随机选择一个元素，这里是随机选择一个颜色\n",
    "        side = random.randint(3, 6)\n",
    "        for i in range(side):\n",
    "            tony.pendown()\n",
    "            tony.forward(l)\n",
    "            tony.left(360/side)\n",
    "\n",
    "multi_polygon(10, 50)            \n",
    "tony.hideturtle()  # 画完之后，隐藏画笔        \n",
    "turtle.done()\n",
    "\n",
    "\n",
    "# 解决在 Jupyter Notebook 第二次运行出错的方法\n",
    "# https://github.com/spyder-ide/spyder/wiki/How-to-run-turtle-scripts-within-Spyder\n",
    "try:\n",
    "    turtle.bye()   \n",
    "except turtle.Terminator:\n",
    "    pass"
   ]
  },
  {
   "cell_type": "markdown",
   "metadata": {},
   "source": [
    "### Ch8\n",
    "练习 1"
   ]
  },
  {
   "cell_type": "code",
   "execution_count": null,
   "metadata": {},
   "outputs": [],
   "source": [
    "import qrcode\n",
    "\n",
    "text = '我叫王大锤，万万没想到，我最终还是……'\n",
    "qr = qrcode.make(text)  # 制作二维码\n",
    "qr.show()  # 显示二维码\n",
    "qr.save('qrcode.png')  # 保存图片到程序的同一目录下"
   ]
  },
  {
   "cell_type": "markdown",
   "metadata": {},
   "source": [
    "练习 2"
   ]
  },
  {
   "cell_type": "markdown",
   "metadata": {},
   "source": [
    "参考示例代码编写程序即可。"
   ]
  },
  {
   "cell_type": "markdown",
   "metadata": {},
   "source": [
    "### Ch9\n",
    "练习 1"
   ]
  },
  {
   "cell_type": "code",
   "execution_count": 2,
   "metadata": {},
   "outputs": [],
   "source": [
    "import turtle\n",
    "\n",
    "class Polygon:  \n",
    "    def __init__(self, sides, l, x, y):  \n",
    "        # 创建属性\n",
    "        self.sides = sides\n",
    "        self.l = l\n",
    "        self.x = x\n",
    "        self.y = y\n",
    "    \n",
    "    # 创建方法   \n",
    "    def draw_polygon(self):  \n",
    "        pen = turtle.Turtle()\n",
    "        pen.up()\n",
    "        pen.goto(self.x, self.y)\n",
    "        pen.down()\n",
    "        for i in range(self.sides):\n",
    "            pen.forward(self.l)\n",
    "            pen.left(360 / self.sides)\n",
    "        turtle.done()\n",
    "        \n",
    "        \n",
    "square = Polygon(4, 100, -50, -50)  \n",
    "square.draw_polygon()\n",
    "\n",
    "# 解决在 Jupyter Notebook 第二次运行出错的方法\n",
    "# https://github.com/spyder-ide/spyder/wiki/How-to-run-turtle-scripts-within-Spyder\n",
    "try:\n",
    "    turtle.bye()   \n",
    "except turtle.Terminator:\n",
    "    pass"
   ]
  },
  {
   "cell_type": "markdown",
   "metadata": {},
   "source": [
    "练习 2"
   ]
  },
  {
   "cell_type": "code",
   "execution_count": 4,
   "metadata": {},
   "outputs": [],
   "source": [
    "import turtle\n",
    "\n",
    "class Polygon:  \n",
    "    def __init__(self, sides, l, x, y):  \n",
    "        # 创建属性\n",
    "        self.sides = sides\n",
    "        self.l = l\n",
    "        self.x = x\n",
    "        self.y = y\n",
    "    \n",
    "    # 创建方法   \n",
    "    def draw_polygon(self):  \n",
    "        pen = turtle.Turtle()\n",
    "        pen.up()\n",
    "        pen.goto(self.x, self.y)\n",
    "        pen.down()\n",
    "        for i in range(self.sides):\n",
    "            pen.forward(self.l)\n",
    "            pen.left(360 / self.sides)\n",
    "        turtle.done()\n",
    "\n",
    "class Square(Polygon):\n",
    "    def __init__(self, l, x, y, color):  \n",
    "        # 创建属性\n",
    "        Polygon.__init__(self, 4, l, x, y)\n",
    "        self.color = color\n",
    "    \n",
    "    # 创建方法   \n",
    "    def draw_square(self):  \n",
    "        pen = turtle.Turtle()\n",
    "        pen.up()\n",
    "        pen.goto(self.x, self.y)\n",
    "        pen.down()\n",
    "        pen.left(45)\n",
    "        pen.pencolor(self.color)\n",
    "        for i in range(self.sides):\n",
    "            pen.forward(self.l)\n",
    "            pen.left(360 / self.sides)\n",
    "        turtle.done()    \n",
    "\n",
    "square = Square(100, 0, -50, 'red')\n",
    "square.draw_square()\n",
    "\n",
    "# 解决在 Jupyter Notebook 第二次运行出错的方法\n",
    "# https://github.com/spyder-ide/spyder/wiki/How-to-run-turtle-scripts-within-Spyder\n",
    "try:\n",
    "    turtle.bye()   \n",
    "except turtle.Terminator:\n",
    "    pass"
   ]
  },
  {
   "cell_type": "markdown",
   "metadata": {},
   "source": [
    "### Ch10 \n",
    "练习 1"
   ]
  },
  {
   "cell_type": "code",
   "execution_count": 4,
   "metadata": {},
   "outputs": [],
   "source": [
    "import turtle\n",
    "import time\n",
    "\n",
    "tony = turtle.Turtle()\n",
    "pos = [(-20, 50), (-20, 10), (-20, -30)]\n",
    "poem = ['不言',\n",
    "        '不语',\n",
    "        '不忘记']\n",
    "\n",
    "tony.speed(1)\n",
    "for i in range(len(poem)):\n",
    "    tony.penup()\n",
    "    tony.goto(pos[i])\n",
    "    tony.pendown()\n",
    "    tony.write(poem[i], font=(\"Kaiti Regular\", 22, \"normal\"))\n",
    "    time.sleep(0.5)\n",
    "tony.hideturtle()\n",
    "turtle.done()\n",
    "\n",
    "try:\n",
    "    turtle.bye()   \n",
    "except turtle.Terminator:\n",
    "    pass"
   ]
  },
  {
   "cell_type": "markdown",
   "metadata": {},
   "source": [
    "练习 2"
   ]
  },
  {
   "cell_type": "code",
   "execution_count": 5,
   "metadata": {},
   "outputs": [],
   "source": [
    "# 参考答案\n",
    "import turtle\n",
    "import math\n",
    "\n",
    "\n",
    "r1 = 100  # 中间圆的半径\n",
    "l1 = 2 * r1 * math.cos(math.radians(30))\n",
    "r2 = l1 * math.cos(math.radians(30)) - r1  # 最小的圆的半径\n",
    "l2 = 2 * r2 * math.cos(math.radians(30))\n",
    "r3 = r1 + 20  # 最外面圆的半径\n",
    "tony = turtle.Turtle()\n",
    "tony.pencolor('purple')\n",
    "tony.pensize(2)\n",
    "\n",
    "def draw_circle(pos, radius):\n",
    "    tony.penup()\n",
    "    tony.goto(pos)\n",
    "    tony.pendown()\n",
    "    tony.circle(radius)\n",
    "\n",
    "\n",
    "def draw_triangle(pos, ang, l):\n",
    "    tony.penup()\n",
    "    tony.goto(pos)\n",
    "    tony.pendown()\n",
    "    tony.right(ang)\n",
    "    for i in range(3):\n",
    "        tony.forward(l)\n",
    "        tony.left(120)\n",
    "    tony.setheading(0)\n",
    "\n",
    "\n",
    "draw_circle((0, -r1), r1)\n",
    "draw_circle((0, -r3), r3)\n",
    "draw_circle((0, -r2), r2)\n",
    "draw_triangle((0, r1), 120, l1)\n",
    "draw_triangle((0, -r1), 300, l1)\n",
    "# draw_triangle((0, r2), 120, l2)\n",
    "# draw_triangle((0, -r2), 300, l2)\n",
    "\n",
    "\n",
    "# 画五角星\n",
    "tony.penup()\n",
    "tony.goto(0, r2)\n",
    "tony.pendown()\n",
    "tony.right(108)\n",
    "for i in range(5):\n",
    "    tony.forward(2*r2*math.cos(math.radians(18)))  \n",
    "    tony.left(144)\n",
    "\n",
    "\n",
    "tony.hideturtle()\n",
    "turtle.done()\n",
    "\n",
    "try:\n",
    "    turtle.bye()   \n",
    "except turtle.Terminator:\n",
    "    pass"
   ]
  }
 ],
 "metadata": {
  "kernelspec": {
   "display_name": "Python 3",
   "language": "python",
   "name": "python3"
  },
  "language_info": {
   "codemirror_mode": {
    "name": "ipython",
    "version": 3
   },
   "file_extension": ".py",
   "mimetype": "text/x-python",
   "name": "python",
   "nbconvert_exporter": "python",
   "pygments_lexer": "ipython3",
   "version": "3.7.5"
  }
 },
 "nbformat": 4,
 "nbformat_minor": 2
}
