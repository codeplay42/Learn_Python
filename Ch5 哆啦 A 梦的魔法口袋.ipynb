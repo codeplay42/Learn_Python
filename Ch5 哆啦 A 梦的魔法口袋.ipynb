{
 "cells": [
  {
   "cell_type": "markdown",
   "metadata": {},
   "source": [
    "# 列表\n",
    "在前面的章节，我们讲过变量的概念，变量可以存放数据。假如现在有一个购物清单，里面包括要购买的蔬菜和水果，怎么存放这些数据呢？你可能想到建多个变量，不过这种方法太麻烦了。其实，更简单的办法是使用列表（list）。"
   ]
  },
  {
   "cell_type": "markdown",
   "metadata": {},
   "source": [
    "<img src='image/ch5.0.png' width=240 align=left>"
   ]
  },
  {
   "cell_type": "markdown",
   "metadata": {},
   "source": [
    "列表可以存放一组数据，它的一般形式如下："
   ]
  },
  {
   "cell_type": "code",
   "execution_count": 20,
   "metadata": {},
   "outputs": [
    {
     "name": "stdout",
     "output_type": "stream",
     "text": [
      "['apple', 'banana', 'tomato']\n"
     ]
    }
   ],
   "source": [
    "a = ['apple', 'banana', 'tomato']\n",
    "print(a)"
   ]
  },
  {
   "cell_type": "markdown",
   "metadata": {},
   "source": [
    "列表用中括号\\[ ]括起来，列表中可以存放各种类型的数据，比如整数、浮点数、字符串。这里的 'apple'、'banana' 称为列表的元素。如果要获取列表中的元素，可以通过索引的方式，索引代表元素在列表中的位置，索引从 0 开始。"
   ]
  },
  {
   "cell_type": "code",
   "execution_count": 21,
   "metadata": {},
   "outputs": [
    {
     "name": "stdout",
     "output_type": "stream",
     "text": [
      "apple\n",
      "tomato\n"
     ]
    }
   ],
   "source": [
    "a = ['apple', 'banana', 'tomato']\n",
    "print(a[0])\n",
    "print(a[2])"
   ]
  },
  {
   "cell_type": "markdown",
   "metadata": {},
   "source": [
    "这里 a\\[0] 代表第一个元素，即 apple，可以通过 len() 来获取列表的长度。列表中元素是可变的，要改变元素的值，通过赋值符号 = 进行赋值即可。"
   ]
  },
  {
   "cell_type": "code",
   "execution_count": 5,
   "metadata": {},
   "outputs": [
    {
     "name": "stdout",
     "output_type": "stream",
     "text": [
      "3\n",
      "pear\n"
     ]
    }
   ],
   "source": [
    "a = ['apple', 'banana', 'tomato']\n",
    "print(len(a))\n",
    "a[2] = 'pear'\n",
    "print(a[2])"
   ]
  },
  {
   "cell_type": "markdown",
   "metadata": {},
   "source": [
    "要获取列表末尾的元素，可以通过两种方式，如果想在列表末尾加入元素，可以使用 append()，括号中填入要添加的元素。"
   ]
  },
  {
   "cell_type": "code",
   "execution_count": 6,
   "metadata": {},
   "outputs": [
    {
     "name": "stdout",
     "output_type": "stream",
     "text": [
      "tomato\n",
      "tomato\n",
      "blueberry\n"
     ]
    }
   ],
   "source": [
    "a = ['apple', 'banana', 'tomato']\n",
    "a_len = len(a)\n",
    "print(a[a_len - 1])\n",
    "print(a[-1])\n",
    "a.append('blueberry')\n",
    "print(a[-1])"
   ]
  },
  {
   "cell_type": "markdown",
   "metadata": {},
   "source": [
    "这里的索引 -1 代表获取列表倒数第一个元素，即最后一个元素，类似地，获取倒数第二个元素，可以用 -2 表示，试一下吧。"
   ]
  },
  {
   "cell_type": "markdown",
   "metadata": {},
   "source": [
    "# 字典\n",
    "如果想记录购物清单里面每个物品的数量，那么就可以使用字典（dictionary）了。\n",
    "\n",
    "| 物品 | 数量 |\n",
    "|------|------|\n",
    "|  苹果  | 3 |\n",
    "|  香蕉  | 6 |\n",
    "|  番茄  | 2 |"
   ]
  },
  {
   "cell_type": "code",
   "execution_count": 4,
   "metadata": {},
   "outputs": [
    {
     "name": "stdout",
     "output_type": "stream",
     "text": [
      "3\n"
     ]
    }
   ],
   "source": [
    "a = {'apple':3, 'banana':6, 'tomato':2}\n",
    "print(a['apple'])"
   ]
  },
  {
   "cell_type": "markdown",
   "metadata": {},
   "source": [
    "字典使用键-值对的形式存放数据，这个示例中，apple 是键，3 是值。字典用 { } 围起来。键和值是一一对应的关系，要获取字典中某个键对应的值，可以通过“字典\\[键]”的方式。注意，字典中不能包含相同的键，否则容易混淆，比如："
   ]
  },
  {
   "cell_type": "code",
   "execution_count": 1,
   "metadata": {},
   "outputs": [
    {
     "name": "stdout",
     "output_type": "stream",
     "text": [
      "5\n"
     ]
    }
   ],
   "source": [
    "a = {'apple':3, 'banana':6, 'tomato':2, 'apple':5}\n",
    "print(a['apple'])"
   ]
  },
  {
   "cell_type": "markdown",
   "metadata": {},
   "source": [
    "# 元祖\n",
    "元祖（tuple）也可以存放一系列数据，元祖中的数据用括号（）括起来。它的索引方式和列表类似："
   ]
  },
  {
   "cell_type": "code",
   "execution_count": 2,
   "metadata": {},
   "outputs": [
    {
     "name": "stdout",
     "output_type": "stream",
     "text": [
      "banana\n"
     ]
    }
   ],
   "source": [
    "b = ('apple', 'banana', 'tomato')\n",
    "print(b[1])"
   ]
  },
  {
   "cell_type": "markdown",
   "metadata": {},
   "source": [
    "不过元祖中数据不可变，而列表中的数据是可变的。"
   ]
  },
  {
   "cell_type": "code",
   "execution_count": 3,
   "metadata": {
    "scrolled": true
   },
   "outputs": [
    {
     "name": "stdout",
     "output_type": "stream",
     "text": [
      "orange\n"
     ]
    },
    {
     "ename": "TypeError",
     "evalue": "'tuple' object does not support item assignment",
     "output_type": "error",
     "traceback": [
      "\u001b[1;31m---------------------------------------------------------------------------\u001b[0m",
      "\u001b[1;31mTypeError\u001b[0m                                 Traceback (most recent call last)",
      "\u001b[1;32m<ipython-input-3-761378088b9e>\u001b[0m in \u001b[0;36m<module>\u001b[1;34m()\u001b[0m\n\u001b[0;32m      4\u001b[0m \u001b[1;33m\u001b[0m\u001b[0m\n\u001b[0;32m      5\u001b[0m \u001b[0mb\u001b[0m \u001b[1;33m=\u001b[0m \u001b[1;33m(\u001b[0m\u001b[1;34m'apple'\u001b[0m\u001b[1;33m,\u001b[0m \u001b[1;34m'banana'\u001b[0m\u001b[1;33m,\u001b[0m \u001b[1;34m'tomato'\u001b[0m\u001b[1;33m)\u001b[0m\u001b[1;33m\u001b[0m\u001b[0m\n\u001b[1;32m----> 6\u001b[1;33m \u001b[0mb\u001b[0m\u001b[1;33m[\u001b[0m\u001b[1;36m1\u001b[0m\u001b[1;33m]\u001b[0m \u001b[1;33m=\u001b[0m \u001b[1;34m'orange'\u001b[0m\u001b[1;33m\u001b[0m\u001b[0m\n\u001b[0m\u001b[0;32m      7\u001b[0m \u001b[0mprint\u001b[0m\u001b[1;33m(\u001b[0m\u001b[0mb\u001b[0m\u001b[1;33m[\u001b[0m\u001b[1;36m1\u001b[0m\u001b[1;33m]\u001b[0m\u001b[1;33m)\u001b[0m\u001b[1;33m\u001b[0m\u001b[0m\n",
      "\u001b[1;31mTypeError\u001b[0m: 'tuple' object does not support item assignment"
     ]
    }
   ],
   "source": [
    "a = ['apple', 'banana', 'tomato']\n",
    "a[1] = 'orange'\n",
    "print(a[1])\n",
    "\n",
    "b = ('apple', 'banana', 'tomato')\n",
    "b[1] = 'orange'\n",
    "print(b[1])"
   ]
  },
  {
   "cell_type": "markdown",
   "metadata": {},
   "source": [
    "这里程序运行会出错，提示元祖元素不支持赋值。元祖的元素因为不可以修改，所以里面存放的数据会更加安全，可以用它来存放不需要改变的数据。"
   ]
  },
  {
   "cell_type": "markdown",
   "metadata": {},
   "source": [
    "# 综合应用\n",
    "## 五环\n",
    "接下来，用所学知识画一个奥运五环，画五环的关键是确定 5 个圆的中心点坐标和半径。\n",
    "\n",
    "<img src='image/ch5.5.png' width=500 align=left>"
   ]
  },
  {
   "cell_type": "markdown",
   "metadata": {},
   "source": [
    "这里还需要用到海龟编辑器里面的一些函数：\n",
    "\n",
    "- turtle.pensize(width)：设定海龟画笔的粗细 width\n",
    "- turtle.penup()：抬笔\n",
    "- turtle.pendown()：落笔\n",
    "- turtle.goto(x, y)：让海龟画笔移到指定坐标，坐标可以用元组 (x, y) 的形式表示\n",
    "- turtle.pencolor()：设置海龟画笔的颜色，括号中可以填入代表颜色的字符串，如 'red'，或者使用代表颜色的 (r, g, b) 形式。\n",
    "- turtle.circle(radius, angle, steps)：画圆，radius、angle、steps 分别代表圆的半径、圆的角度和画圆的步数。若角度为 360 或省略则代表画完整的圆，小于 360 则画圆弧。steps 代表画出圆需要的步数，如果没有指定，程序会自动计算，可以将它设置得比较小来画正多边形。\n",
    "\n",
    "只要确定好每个圆的坐标，就可以使用 for 循环画出 5 个圆，程序如下："
   ]
  },
  {
   "cell_type": "code",
   "execution_count": 8,
   "metadata": {},
   "outputs": [],
   "source": [
    "import turtle\n",
    "\n",
    "tony = turtle.Turtle()\n",
    "colors = ['blue', 'orange', 'black', 'green', 'red']  # 用列表存放颜色\n",
    "coordinates = [(-110, 0), (-55, -55), (0, 0), (55, -55), (110, 0)]  # 用列表存放元组形式的坐标\n",
    "tony.pensize(5)  # 设定画笔的粗细\n",
    "for i in range(len(colors)):\n",
    "    tony.penup()  # 抬笔\n",
    "    tony.goto(coordinates[i])  # 让海龟移到指定位置\n",
    "    tony.pendown()  # 落笔\n",
    "    tony.pencolor(colors[i])  # 设置画笔颜色\n",
    "    tony.circle(50)  # 画半径为 50 的圆\n",
    "\n",
    "turtle.done()\n",
    "\n",
    "# 解决在 Jupyter Notebook 第二次运行出错的方法\n",
    "# https://github.com/spyder-ide/spyder/wiki/How-to-run-turtle-scripts-within-Spyder\n",
    "try:\n",
    "    turtle.bye()   \n",
    "except turtle.Terminator:\n",
    "    pass"
   ]
  },
  {
   "cell_type": "markdown",
   "metadata": {},
   "source": [
    "注意，画圆弧时，海龟画笔默认从最低点开始，因此，程序中的坐标并不是圆的中心点坐标，而是圆最低点的坐标。"
   ]
  },
  {
   "cell_type": "markdown",
   "metadata": {},
   "source": [
    "## 彩虹\n",
    "红、橙、黄、绿、蓝、靛、紫，这是彩虹的颜色。用海龟画笔画彩虹也没有那么复杂，想象一下你用彩笔画彩虹的过程：先从最外圈的圆弧画起，画一个半圆，然后将画笔移到起始点附近，画第 2 个圆弧，第 2 个圆弧的半径比第 1 个圆弧小，依此类推，即可画出彩虹。注意设置彩虹中每种颜色圆弧的半径和颜色。\n",
    "<img src='image/ch5.2.png' width=500>"
   ]
  },
  {
   "cell_type": "markdown",
   "metadata": {},
   "source": [
    "这里要用到新的函数 turtle.setheading()，它可以设置海龟画笔的朝向，0、90、180、270 分别代表东、北、西、南的方向。"
   ]
  },
  {
   "cell_type": "code",
   "execution_count": 3,
   "metadata": {},
   "outputs": [],
   "source": [
    "import turtle\n",
    "\n",
    "tony = turtle.Turtle()\n",
    "colors = ['red', 'orange', 'yellow', 'green', 'blue', 'indigo', 'violet']\n",
    "tony.pensize(20)  # 设定画笔的粗细\n",
    "for i in range(len(colors)):\n",
    "    tony.penup()  # 抬笔\n",
    "    tony.goto(200 - 20 * i, 0)  # 让海龟移到指定位置\n",
    "    tony.setheading(90)  # 设置海龟朝向，90 代表正北\n",
    "    tony.pendown()  # 落笔\n",
    "    tony.pencolor(colors[i])  # 设置画笔颜色\n",
    "    tony.circle(200 - 20 * i, 180)  # 画半圆\n",
    "\n",
    "turtle.done()\n",
    "\n",
    "# 解决在 Jupyter Notebook 第二次运行出错的方法\n",
    "# https://github.com/spyder-ide/spyder/wiki/How-to-run-turtle-scripts-within-Spyder\n",
    "try:\n",
    "    turtle.bye()   \n",
    "except turtle.Terminator:\n",
    "    pass"
   ]
  },
  {
   "cell_type": "markdown",
   "metadata": {},
   "source": [
    "# 编程挑战\n",
    "1. 编写一个结帐的程序：\n",
    "\n",
    "  - 使用列表 num 和 price 存放购买的苹果、香蕉的数量和价格；\n",
    "  - 计算苹果、香蕉的总价格；\n",
    "  - 改用字典 num1 和 price1 存放购买的苹果、香蕉的数量和价格，再次计算苹果、香蕉的总价格。\n",
    "  \n",
    "<br>\n",
    "<br>\n",
    "2. 用海龟画笔画出奥迪的车标。\n",
    "\n",
    "<img src='image/ch5.3.png' width=300 align=left>"
   ]
  },
  {
   "cell_type": "markdown",
   "metadata": {},
   "source": [
    "<br>\n",
    "<br>\n",
    "3. 给第四章画的图案配上不同的颜色。\n",
    "\n",
    "<br>\n",
    "<br>\n",
    "<br>\n",
    "<br>\n",
    "4. 尝试画出以下图案。\n",
    "\n",
    "<img src='image/ch5.4.png' width= 240 align=left>"
   ]
  },
  {
   "cell_type": "markdown",
   "metadata": {},
   "source": [
    "五环和五环之歌更配。"
   ]
  },
  {
   "cell_type": "code",
   "execution_count": 1,
   "metadata": {},
   "outputs": [
    {
     "data": {
      "text/html": [
       "<iframe frameborder=\"no\" border=\"0\" marginwidth=\"0\" marginheight=\"0\" width=330 height=86 src=\"//music.163.com/outchain/player?type=2&id=32785586&auto=0&height=66\"></iframe>"
      ],
      "text/plain": [
       "<IPython.core.display.HTML object>"
      ]
     },
     "execution_count": 1,
     "metadata": {},
     "output_type": "execute_result"
    }
   ],
   "source": [
    "from IPython.display import HTML\n",
    "\n",
    "HTML('<iframe frameborder=\"no\" border=\"0\" marginwidth=\"0\" marginheight=\"0\" width=330 height=86 src=\"//music.163.com/outchain/player?type=2&id=32785586&auto=0&height=66\"></iframe>')"
   ]
  }
 ],
 "metadata": {
  "kernelspec": {
   "display_name": "Python 3",
   "language": "python",
   "name": "python3"
  },
  "language_info": {
   "codemirror_mode": {
    "name": "ipython",
    "version": 3
   },
   "file_extension": ".py",
   "mimetype": "text/x-python",
   "name": "python",
   "nbconvert_exporter": "python",
   "pygments_lexer": "ipython3",
   "version": "3.6.3"
  }
 },
 "nbformat": 4,
 "nbformat_minor": 2
}
