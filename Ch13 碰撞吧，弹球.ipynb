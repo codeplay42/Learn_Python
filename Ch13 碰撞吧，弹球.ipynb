{
 "cells": [
  {
   "cell_type": "markdown",
   "metadata": {},
   "source": [
    "# Pong\n",
    "\n",
    "Pong 是一款经典的弹球游戏。通过控制平板上下移动接球得分，弹球碰到边缘会反弹，两个平板可以分别由两个玩家控制来对战。因为这个游戏的经典性和并不复杂的游戏机制，非常适合用来做游戏编程入门的案例。\n",
    "\n",
    "<img src='image/ch13.1.png' width=400 align=left>"
   ]
  },
  {
   "cell_type": "markdown",
   "metadata": {},
   "source": [
    "## 游戏基本框架\n",
    "\n",
    "接下来，就来制作这个游戏吧。在开始制作游戏前，要先弄清楚每个角色的功能。Pong 中主要包含平板和弹球两个角色，它们的功能如下：\n",
    "\n",
    "- 弹球：朝某个方向移动，碰到平板或墙壁则反弹；\n",
    "- 平板：可以上下移动，接到球得分增加。\n",
    "\n",
    "除此之外，游戏一般有游戏开始、游戏中、游戏结束 3 种状态。不同游戏状态通过文字进行提示，比如游戏开始时显示游戏名称，游戏结束显示 Game Over。Pong 这个游戏设置游戏开始和进行中两种状态。参考上一章的代码，先写出游戏的大框架，展示游戏的开始画面。"
   ]
  },
  {
   "cell_type": "code",
   "execution_count": null,
   "metadata": {},
   "outputs": [],
   "source": [
    "import pyxel\n",
    "\n",
    "\n",
    "class App:\n",
    "    def __init__(self):\n",
    "        self.game_state = 'start'  # 定义游戏状态\n",
    "        pyxel.init(160, 120, caption='Pong')\n",
    "        pyxel.run(self.update, self.draw)\n",
    "\n",
    "    def update(self):\n",
    "        if self.game_state == 'start':\n",
    "            # 按空格键切换游戏状态\n",
    "            if pyxel.btnp(pyxel.KEY_SPACE):  \n",
    "                self.game_state = 'playing'\n",
    "        elif self.game_state == 'playing':\n",
    "            pass\n",
    "\n",
    "    def draw(self):\n",
    "        if self.game_state == 'start':\n",
    "            # 显示游戏名称和按空格进入游戏的提示\n",
    "            pyxel.text(75, 40, 'Pong', 8)  \n",
    "            pyxel.text(40, 60, 'Press Space to Play!', 2)\n",
    "        elif self.game_state == 'playing':\n",
    "            pass\n",
    "\n",
    "App()"
   ]
  },
  {
   "cell_type": "markdown",
   "metadata": {},
   "source": [
    "生成的游戏开始界面如下：\n",
    "\n",
    "<img src='image/ch13.2.png' width=400 align=left>"
   ]
  },
  {
   "cell_type": "markdown",
   "metadata": {},
   "source": [
    "## 弹球移动\n",
    "接下来，设置弹球移动的功能，弹球的速度分解为 x 方向和 y 方向的速度。update() 函数会不断运行，在 update() 中让弹球 x、y 坐标分别增加 self.x_speed 和 self.y_speed ，这样就实现了弹球移动的效果。为了看到移动效果，在 draw() 函数中添加在弹球中心坐标绘制弹球的代码。**注意，为了便于区分新增代码，新增代码一般添加了注释。**"
   ]
  },
  {
   "cell_type": "code",
   "execution_count": null,
   "metadata": {},
   "outputs": [],
   "source": [
    "import pyxel\n",
    "\n",
    "\n",
    "class App:\n",
    "    def __init__(self):\n",
    "        self.game_state = 'start'\n",
    "        pyxel.init(160, 120, caption='Pong')\n",
    "        self.ball_x = 60  # 设置弹球的 x 坐标\n",
    "        self.ball_y = 60  # 设置弹球的 y 坐标\n",
    "        self.x_speed = 3  # 设置弹球 x 方向的速度\n",
    "        self.y_speed = 3  # 设置弹球 y 方向的速度      \n",
    "        pyxel.run(self.update, self.draw)\n",
    "\n",
    "    def update(self):\n",
    "        if self.game_state == 'start':\n",
    "            if pyxel.btnp(pyxel.KEY_SPACE):\n",
    "                self.game_state = 'playing'\n",
    "        elif self.game_state == 'playing':\n",
    "            self.ball_x += self.x_speed  # 更新弹球 x 坐标实现移动的效果\n",
    "            self.ball_y += self.y_speed\n",
    "\n",
    "    def draw(self):\n",
    "        if self.game_state == 'start':\n",
    "            pyxel.text(75, 40, 'Pong', 8)  \n",
    "            pyxel.text(40, 60, 'Press Space to Play!', 2)\n",
    "        elif self.game_state == 'playing':\n",
    "            pyxel.circ(self.ball_x, self.ball_y, 3, 8)  # 在弹球坐标处绘制弹球，半径为 3，颜色为 8\n",
    "\n",
    "App()"
   ]
  },
  {
   "cell_type": "markdown",
   "metadata": {},
   "source": [
    "运行程序后，你会发现画面中出现了一系列的弹球，开始画面的文字也没有消失。这是因为游戏运行时没有清除上一帧画面的图案，所以所有帧的图案都保留下来形成了“残影”。解决方法是添加清除屏幕的代码 pyxel.cls(col)，col 代表清除屏幕的颜色。如果没有设置背景颜色或图案，col 就相当于背景颜色。\n",
    "\n",
    "<img src='image/ch13.3.png' width=400 align=left>"
   ]
  },
  {
   "cell_type": "markdown",
   "metadata": {},
   "source": [
    "在绘制弹球代码的上一行添加 pyxel.cls(0)，运行程序，“残影”是不是消失了？这里 0 代表黑色。"
   ]
  },
  {
   "cell_type": "markdown",
   "metadata": {},
   "source": [
    "## 弹球反弹\n",
    "接下来添加弹球反弹的代码，当弹球反弹时，x 速度或 y 速度的方向发生了变化，在代码中更新 self.x_speed、self.y_speed 即可。\n",
    "\n",
    "<img src='image/ch13.4.png' width=317 align=left>"
   ]
  },
  {
   "cell_type": "code",
   "execution_count": null,
   "metadata": {},
   "outputs": [],
   "source": [
    "import pyxel\n",
    "\n",
    "\n",
    "class App:\n",
    "    def __init__(self):\n",
    "        self.game_state = 'start'\n",
    "        pyxel.init(160, 120, caption='Pong')\n",
    "        self.ball_x = 60  \n",
    "        self.ball_y = 60  \n",
    "        self.x_speed = 3  \n",
    "        self.y_speed = 3     \n",
    "        pyxel.run(self.update, self.draw)\n",
    "\n",
    "    def update(self):\n",
    "        if self.game_state == 'start':\n",
    "            if pyxel.btnp(pyxel.KEY_SPACE):\n",
    "                self.game_state = 'playing'\n",
    "        elif self.game_state == 'playing':\n",
    "            self.ball_x += self.x_speed  \n",
    "            self.ball_y += self.y_speed\n",
    "            # 如果碰到左右边缘，改变 self.x_speed\n",
    "            if self.ball_x < 5 or self.ball_x > 155:\n",
    "                self.x_speed = -self.x_speed   \n",
    "            # 如果碰到上下边缘，改变 self.y_speed    \n",
    "            if self.ball_y < 5 or self.ball_y > 115:\n",
    "                self.y_speed = -self.y_speed            \n",
    "\n",
    "    def draw(self):\n",
    "        if self.game_state == 'start':\n",
    "            pyxel.text(75, 40, 'Pong', 8)  \n",
    "            pyxel.text(40, 60, 'Press Space to Play!', 2)\n",
    "        elif self.game_state == 'playing':\n",
    "            pyxel.cls(0)\n",
    "            pyxel.circ(self.ball_x, self.ball_y, 3, 8)  \n",
    "\n",
    "App()"
   ]
  },
  {
   "cell_type": "markdown",
   "metadata": {},
   "source": [
    "运行程序，现在弹球应该能够正常反弹了。"
   ]
  },
  {
   "cell_type": "markdown",
   "metadata": {},
   "source": [
    "## 平板移动\n",
    "现在添加平板的代码，平板通过按键上下移动，代码如下："
   ]
  },
  {
   "cell_type": "code",
   "execution_count": null,
   "metadata": {},
   "outputs": [],
   "source": [
    "import pyxel\n",
    "\n",
    "\n",
    "class App:\n",
    "    def __init__(self):\n",
    "        self.game_state = 'start'\n",
    "        pyxel.init(160, 120, caption='Pong')\n",
    "        self.ball_x = 60  \n",
    "        self.ball_y = 60  \n",
    "        self.x_speed = 3  \n",
    "        self.y_speed = 3     \n",
    "        self.pannel_pos = [0, 60, 158, 60]  # 设置左右平板的坐标\n",
    "        pyxel.run(self.update, self.draw)\n",
    "\n",
    "    def update(self):\n",
    "        if self.game_state == 'start':\n",
    "            if pyxel.btnp(pyxel.KEY_SPACE):\n",
    "                self.game_state = 'playing'\n",
    "        elif self.game_state == 'playing':\n",
    "            self.ball_x += self.x_speed  \n",
    "            self.ball_y += self.y_speed\n",
    "            if self.ball_x < 5 or self.ball_x > 155:\n",
    "                self.x_speed = -self.x_speed           \n",
    "            if self.ball_y < 5 or self.ball_y > 115:\n",
    "                self.y_speed = -self.y_speed  \n",
    "            # 用 W 按键控制左边平板向上移动\n",
    "            if pyxel.btn(pyxel.KEY_W):\n",
    "                self.pannel_pos[1] -= 3\n",
    "            elif pyxel.btn(pyxel.KEY_S):\n",
    "                self.pannel_pos[1] += 3\n",
    "            # 用上键控制右边平板向上移动\n",
    "            if pyxel.btn(pyxel.KEY_UP):\n",
    "                self.pannel_pos[3] -= 3\n",
    "            elif pyxel.btn(pyxel.KEY_DOWN):\n",
    "                self.pannel_pos[3] += 3\n",
    "\n",
    "    def draw(self):\n",
    "        if self.game_state == 'start':\n",
    "            pyxel.text(75, 40, 'Pong', 8)  \n",
    "            pyxel.text(40, 60, 'Press Space to Play!', 2)\n",
    "        elif self.game_state == 'playing':\n",
    "            pyxel.cls(0)\n",
    "            pyxel.circ(self.ball_x, self.ball_y, 3, 8) \n",
    "            pyxel.rect(self.pannel_pos[0], self.pannel_pos[1], 2, 18, 4)  # 绘制代表平板的矩形\n",
    "            pyxel.rect(self.pannel_pos[2], self.pannel_pos[3], 2, 18, 4)       \n",
    "\n",
    "App()"
   ]
  },
  {
   "cell_type": "markdown",
   "metadata": {},
   "source": [
    "程序中用到了 pyxel.rect(x, y, w, h, col)，x、y 代表矩形的左上角坐标，w、h、col 代表矩形宽度、高度和颜色。"
   ]
  },
  {
   "cell_type": "markdown",
   "metadata": {},
   "source": [
    "## 计算得分\n",
    "现在平板能够上下移动了，如何判断平板是否接到球来计算得分呢？可以看平板碰到墙壁时，弹球 y 坐标与平板 y 坐标之间的距离，如果小于平板高度，则说明平板接到了球，得分增加，程序如下：\n",
    "\n",
    "<img src='image/ch13.5.png' width=400 align=left>"
   ]
  },
  {
   "cell_type": "code",
   "execution_count": null,
   "metadata": {},
   "outputs": [],
   "source": [
    "import pyxel\n",
    "\n",
    "\n",
    "class App:\n",
    "    def __init__(self):\n",
    "        self.game_state = 'start'\n",
    "        pyxel.init(160, 120, caption='Pong')\n",
    "        self.ball_x = 60  \n",
    "        self.ball_y = 60  \n",
    "        self.x_speed = 3  \n",
    "        self.y_speed = 3     \n",
    "        self.pannel_pos = [0, 60, 158, 60]\n",
    "        self.score = [0, 0]  # 设置得分    \n",
    "        pyxel.run(self.update, self.draw)\n",
    "\n",
    "    def update(self):\n",
    "        if self.game_state == 'start':\n",
    "            if pyxel.btnp(pyxel.KEY_SPACE):\n",
    "                self.game_state = 'playing'\n",
    "        elif self.game_state == 'playing':\n",
    "            self.ball_x += self.x_speed  \n",
    "            self.ball_y += self.y_speed\n",
    "            # 判断弹球碰到墙壁时，弹球与平板的碰撞，18 是平板高度\n",
    "            if self.ball_x < 5:\n",
    "                self.x_speed = -self.x_speed\n",
    "                if self.ball_y <= self.pannel_pos[1] + 18 and self.ball_y >= self.pannel_pos[1]:\n",
    "                    self.score[0] += 1\n",
    "            if self.ball_x > 155:\n",
    "                self.x_speed = -self.x_speed\n",
    "                if self.ball_y <= self.pannel_pos[3] + 18 and self.ball_y >= self.pannel_pos[3]:\n",
    "                    self.score[1] += 1          \n",
    "            if self.ball_y < 5 or self.ball_y > 115:\n",
    "                self.y_speed = -self.y_speed            \n",
    "            if pyxel.btn(pyxel.KEY_W):\n",
    "                self.pannel_pos[1] -= 3\n",
    "            elif pyxel.btn(pyxel.KEY_S):\n",
    "                self.pannel_pos[1] += 3\n",
    "            if pyxel.btn(pyxel.KEY_UP):\n",
    "                self.pannel_pos[3] -= 3\n",
    "            elif pyxel.btn(pyxel.KEY_DOWN):\n",
    "                self.pannel_pos[3] += 3\n",
    "\n",
    "    def draw(self):\n",
    "        if self.game_state == 'start':\n",
    "            pyxel.text(75, 40, 'Pong', 8)  \n",
    "            pyxel.text(40, 60, 'Press Space to Play!', 2)\n",
    "        elif self.game_state == 'playing':\n",
    "            pyxel.cls(0)\n",
    "            pyxel.circ(self.ball_x, self.ball_y, 3, 8) \n",
    "            pyxel.rect(self.pannel_pos[0], self.pannel_pos[1], 2, 18, 4)\n",
    "            pyxel.rect(self.pannel_pos[2], self.pannel_pos[3], 2, 18, 4) \n",
    "            # 显示得分\n",
    "            pyxel.text(40, 10, str(self.score[0]), 2)  \n",
    "            pyxel.text(120, 10, str(self.score[1]), 2)          \n",
    "\n",
    "App()"
   ]
  },
  {
   "cell_type": "markdown",
   "metadata": {},
   "source": [
    "这样，Pong 游戏就制作好了，运行程序玩起来吧。\n",
    "\n",
    "# 编程挑战\n",
    "\n",
    "1. 为游戏添加平板碰到弹球的音效，可以使用上一章制作的音效。\n",
    "<br>\n",
    "<br>\n",
    "<br>\n",
    "\n",
    "\n",
    "2. 为游戏添加结束功能：当平板漏接弹球时，游戏结束，游戏界面显示 Game Over。\n",
    "<br>\n",
    "<br>\n",
    "<br>"
   ]
  },
  {
   "cell_type": "code",
   "execution_count": 2,
   "metadata": {},
   "outputs": [
    {
     "data": {
      "text/html": [
       "<iframe src=\"//player.bilibili.com/player.html?aid=14400488&cid=23496774&page=1\" scrolling=\"no\" border=\"0\" frameborder=\"no\" framespacing=\"0\" allowfullscreen=\"true\"> </iframe>"
      ],
      "text/plain": [
       "<IPython.core.display.HTML object>"
      ]
     },
     "execution_count": 2,
     "metadata": {},
     "output_type": "execute_result"
    }
   ],
   "source": [
    "from IPython.display import HTML\n",
    "\n",
    "# video\n",
    "HTML('<iframe src=\"//player.bilibili.com/player.html?aid=14400488&cid=23496774&page=1\" scrolling=\"no\" border=\"0\" frameborder=\"no\" framespacing=\"0\" allowfullscreen=\"true\"> </iframe>')"
   ]
  }
 ],
 "metadata": {
  "kernelspec": {
   "display_name": "Python 3",
   "language": "python",
   "name": "python3"
  },
  "language_info": {
   "codemirror_mode": {
    "name": "ipython",
    "version": 3
   },
   "file_extension": ".py",
   "mimetype": "text/x-python",
   "name": "python",
   "nbconvert_exporter": "python",
   "pygments_lexer": "ipython3",
   "version": "3.7.5"
  }
 },
 "nbformat": 4,
 "nbformat_minor": 2
}
