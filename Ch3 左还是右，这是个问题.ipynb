{
 "cells": [
  {
   "cell_type": "markdown",
   "metadata": {},
   "source": [
    "# 条件判断\n",
    "上章讲到了 for 循环，其实 while 循环也很常见。while 从字面上理解是“当...时”，它用来根据条件来判断是否继续循环。在讲 while 循环之前，先按下暂停键，来说说条件判断的问题。以一个网上流传的程序员梗来说明，某程序员老婆给程序员下达了指令：\n",
    "\n",
    "**上街买几个桃子**\n",
    "\n",
    "**如果看到西瓜，就买一个**\n",
    "\n",
    "结果十五分钟后程序员带回了一个桃子，分析一下当时程序员的脑回路。\n",
    "\n",
    "如果：看到西瓜\n",
    "\n",
    "那么：就买一个桃子\n",
    "\n",
    "<img src='image/ch3.0.png' width=200 align=left>"
   ]
  },
  {
   "cell_type": "markdown",
   "metadata": {},
   "source": [
    "生活中条件判断的例子也很多，如果天气下雨，就带伞。根据条件做出相应的行为是一种自然的行为模式。\n",
    "\n",
    "<img src='image/ch3.1.png' width=450 align=left>"
   ]
  },
  {
   "cell_type": "markdown",
   "metadata": {},
   "source": [
    "在 Python 中，用 if 代表条件判断，比如："
   ]
  },
  {
   "cell_type": "code",
   "execution_count": 2,
   "metadata": {},
   "outputs": [
    {
     "name": "stdout",
     "output_type": "stream",
     "text": [
      "True\n",
      "666\n"
     ]
    }
   ],
   "source": [
    "print(5 > 3)\n",
    "if 5 > 3:\n",
    "    print(666)"
   ]
  },
  {
   "cell_type": "markdown",
   "metadata": {},
   "source": [
    "这里使用了 if 条件判断，表达式 5>3 的是成立的，程序中用 True 表示比较的结果，True 和 False 是布尔值。条件判断满足时，就会执行相应的代码，这里是打印 666。注意，条件判断成立才执行的代码应该缩进，这里的 print() 之前留了 4 个空格。\n",
    "\n",
    "<img src='image/ch3.2.png' width=300 align=left>"
   ]
  },
  {
   "cell_type": "markdown",
   "metadata": {},
   "source": [
    "这里根据条件是否满足有两种不同的动作。那么在 Python 中怎么处理这种情况呢？这里就要用到 else 了，代表条件不满足的情况。以上一个程序为例："
   ]
  },
  {
   "cell_type": "code",
   "execution_count": 4,
   "metadata": {},
   "outputs": [
    {
     "name": "stdout",
     "output_type": "stream",
     "text": [
      "False\n",
      "2333\n"
     ]
    }
   ],
   "source": [
    "print(5 > 6)\n",
    "if 5 > 6:\n",
    "    print(666)\n",
    "else:\n",
    "    print(2333)"
   ]
  },
  {
   "cell_type": "markdown",
   "metadata": {},
   "source": [
    "这里 5>6 明显不满足条件，所以会执行 else 对应的代码。前面讲到 if 条件判断会根据表达式的返回值是 True 还是 False 来执行不同的动作，其实数字也可以充当布尔值的效果，如："
   ]
  },
  {
   "cell_type": "code",
   "execution_count": 6,
   "metadata": {},
   "outputs": [
    {
     "name": "stdout",
     "output_type": "stream",
     "text": [
      "6\n",
      "66\n"
     ]
    }
   ],
   "source": [
    "if 2:\n",
    "    print(6)\n",
    "if 2.1:\n",
    "    print(66)\n",
    "if 0:\n",
    "    print(666)"
   ]
  },
  {
   "cell_type": "markdown",
   "metadata": {},
   "source": [
    "即非 0 的数字在 if 条件判断中相当于 True，0 相当于 False。\n",
    "\n",
    "条件判断还有更复杂的情况，比如某天你决定通过抛硬币来决定要不要去跑步减肥:\n",
    "\n",
    "<img src='image/ch3.3.png' width=466 align=left>"
   ]
  },
  {
   "cell_type": "markdown",
   "metadata": {},
   "source": [
    "硬币朝上或朝下这两种情况如何放在一个 if 条件判断里面呢？这里就要用到逻辑运算符 and、or、not 了，对应中文里的与、或、非。\n",
    "\n",
    "| 逻辑运算符 | 释义 | \n",
    "|------|------|\n",
    "|  and  | 与，两种条件都满足才会返回 True |\n",
    "|  or  | 或，只要有其中一种条件满足就返回 True，两种条件都满足也会返回 True |\n",
    "|  not  | 非，颠倒黑白，将原本为 True 的变为 False，原本为 False 的变成 True |\n",
    "\n",
    "用一句话概括： and 同真为真，or 有真为真，not 颠倒黑白。来看一下逻辑运算符的使用示例："
   ]
  },
  {
   "cell_type": "code",
   "execution_count": 7,
   "metadata": {
    "scrolled": false
   },
   "outputs": [
    {
     "name": "stdout",
     "output_type": "stream",
     "text": [
      "True\n",
      "True\n",
      "False\n"
     ]
    }
   ],
   "source": [
    "print(5 > 3 and 6 > 5)\n",
    "print(5 > 3 or 5 > 6)\n",
    "print(not 5 > 3)"
   ]
  },
  {
   "cell_type": "markdown",
   "metadata": {},
   "source": [
    "if A and B and C 这种形式也是可以的，即将多个条件用逻辑运算符连接起来。\n",
    "\n",
    "**【试一试】**\n",
    "\n",
    "表达式 6 > 8 and 3 > 2 or 6 > 3 的结果是什么？如果不确定的话，用 print() 将结果打印出来吧。"
   ]
  },
  {
   "cell_type": "markdown",
   "metadata": {},
   "source": [
    "还有一种判断多个并列条件的情况，这里就要用到 if-elif-else 这种形式了，elif 是 else if 的缩写。假设一个游戏根据积分来判定段位："
   ]
  },
  {
   "cell_type": "code",
   "execution_count": 13,
   "metadata": {
    "scrolled": true
   },
   "outputs": [
    {
     "name": "stdout",
     "output_type": "stream",
     "text": [
      "输入积分：650\n",
      "黄金\n"
     ]
    }
   ],
   "source": [
    "score = int(input('输入积分：'))\n",
    "if score <= 200:\n",
    "    print('青铜')\n",
    "elif score > 200 and score <= 600:\n",
    "    print('白银')\n",
    "elif score > 600 and score <= 800:\n",
    "    print('黄金')\n",
    "else:\n",
    "    print('王者')"
   ]
  },
  {
   "cell_type": "markdown",
   "metadata": {},
   "source": [
    "这里的 input() 可以获取从键盘输入的数据，不过返回值是字符串，所以要用 int() 将它转换成整数。\n",
    "\n",
    "**【编程百科】**\n",
    "\n",
    "上一个程序在判断大小时，用到了比较运算符，它们的含义如下：\n",
    "\n",
    "| 比较运算符 | 释义 | \n",
    "|------|------|\n",
    "|  >  | 大于 |\n",
    "|  <  | 小于 |\n",
    "|  >=  | 大于等于 |\n",
    "|  <=  | 小于等于 |\n",
    "|  ==  | 等于 |\n",
    "|  !=  | 不等于 |\n",
    "\n",
    "# while 循环\n",
    "\n",
    "while 循环会根据条件是否满足来决定循环中的代码是否继续，比如："
   ]
  },
  {
   "cell_type": "code",
   "execution_count": 15,
   "metadata": {},
   "outputs": [
    {
     "name": "stdout",
     "output_type": "stream",
     "text": [
      "0\n",
      "1\n",
      "2\n"
     ]
    }
   ],
   "source": [
    "a = 0\n",
    "while a < 3:\n",
    "    print(a)\n",
    "    a = a + 1  # 循环一次，a 增加 1"
   ]
  },
  {
   "cell_type": "markdown",
   "metadata": {},
   "source": [
    "从程序运行结果可以看出，当 a 小于 3 时，才会执行打印的操作。如果想让程序一直执行，可以写成 while True 的形式。使用 while 循环容易出现 bug 的地方是判断条件设置不当，让 while 循环一直运行。这里 a = a + 1 表示将 a + 1 的值再赋值给 a，即 a 增加 1，它也可以写成 a += 1。与此类似的还有 -=、*=、/=，它们的对应关系如下：\n",
    "\n",
    "\n",
    "| 表达式 | 等价于 | \n",
    "|------|------|\n",
    "|  a = a + 2 | a += 2 |\n",
    "|  a = a - 2 | a -= 2 |\n",
    "|  a = a * 2 | a \\*= 2 |\n",
    "|  a = a / 2 | a /= 2 |"
   ]
  },
  {
   "cell_type": "markdown",
   "metadata": {},
   "source": [
    "上一个示例可以改写成 for 循环的形式："
   ]
  },
  {
   "cell_type": "code",
   "execution_count": 16,
   "metadata": {},
   "outputs": [
    {
     "name": "stdout",
     "output_type": "stream",
     "text": [
      "0\n",
      "1\n",
      "2\n"
     ]
    }
   ],
   "source": [
    "for i in range(3):\n",
    "    print(i)"
   ]
  },
  {
   "cell_type": "markdown",
   "metadata": {},
   "source": [
    "不过，for 循环和 while 循环并不总是可以互相改写的，比如这个猜数字 3 的游戏："
   ]
  },
  {
   "cell_type": "code",
   "execution_count": 17,
   "metadata": {},
   "outputs": [
    {
     "name": "stdout",
     "output_type": "stream",
     "text": [
      "猜数字，请输入一个 0-5 之间的整数： 2\n",
      "猜数字，请输入一个 0-5 之间的整数： 1\n",
      "猜数字，请输入一个 0-5 之间的整数： 3\n",
      "猜中了\n"
     ]
    }
   ],
   "source": [
    "a = 1\n",
    "while a != 3:\n",
    "    a = int(input('猜数字，请输入一个 0-5 之间的整数： '))\n",
    "print('猜中了')"
   ]
  },
  {
   "cell_type": "markdown",
   "metadata": {},
   "source": [
    "这里就无法将 while 循环用 for 循环代替，因为你不知道程序会运行多少次。所以 for 循环适合固定次数的循环，而 while 循环根据条件来判断循环是否继续，很多情况下无法预知循环运行次数。结合 if 条件判断，可以做一个更有提示性的猜数字游戏："
   ]
  },
  {
   "cell_type": "code",
   "execution_count": 18,
   "metadata": {},
   "outputs": [
    {
     "name": "stdout",
     "output_type": "stream",
     "text": [
      "猜数字，请输入一个 0-5 之间的整数： 10\n",
      "小了\n",
      "猜数字，请输入一个 0-5 之间的整数： 16\n",
      "大了\n",
      "猜数字，请输入一个 0-5 之间的整数： 12\n",
      "猜中了\n"
     ]
    }
   ],
   "source": [
    "a = 1\n",
    "while a != 12:\n",
    "    a = int(input('猜数字，请输入一个 0-20 之间的整数： '))\n",
    "    if a > 12:\n",
    "        print('大了')\n",
    "    elif a == 12:\n",
    "        print('猜中了')\n",
    "    else:\n",
    "        print('小了')"
   ]
  },
  {
   "cell_type": "markdown",
   "metadata": {},
   "source": [
    "不过这里有一个问题，就是我们事先可以从程序中知道目标数字是多少？有没有办法每次运行程序时，目标数字是一个随机数呢？这里可以使用 random 库来实现："
   ]
  },
  {
   "cell_type": "code",
   "execution_count": null,
   "metadata": {},
   "outputs": [],
   "source": [
    "import random  # 导入 random 库\n",
    "\n",
    "a = 22\n",
    "b = random.randint(0, 20)  # 随机生成 0-20 之间的一个整数\n",
    "\n",
    "while a != b:\n",
    "    a = int(input('猜数字，请输入一个 0-20 之间的整数： '))\n",
    "    if a > b:\n",
    "        print('大了')\n",
    "    elif a == b:\n",
    "        print('猜中了')\n",
    "    else:\n",
    "        print('小了')"
   ]
  },
  {
   "cell_type": "markdown",
   "metadata": {},
   "source": [
    "生成随机数要先导入 random 库，使用 random.randint(a, b) 可以生成 [a, b] 范围内的整数。"
   ]
  },
  {
   "cell_type": "markdown",
   "metadata": {},
   "source": [
    "# 编程挑战\n",
    "\n",
    "1. 请将以下程序改写成 while 循环："
   ]
  },
  {
   "cell_type": "code",
   "execution_count": null,
   "metadata": {},
   "outputs": [],
   "source": [
    "for i in range(6):\n",
    "    print(i ** 2)"
   ]
  },
  {
   "cell_type": "markdown",
   "metadata": {},
   "source": [
    "<br>\n",
    "<br>\n",
    "\n",
    "2. 请编写一个根据掷骰子的结果来决定今天运势的程序，可以使用 random.randint() 生成随机数。\n",
    "<br>\n",
    "<br>\n",
    "<br>\n",
    "\n",
    "3. 请使用 while 循环计算 1+2+3+...+9+10 的值。\n",
    "<br>\n",
    "<br>\n",
    "<br>"
   ]
  },
  {
   "cell_type": "markdown",
   "metadata": {},
   "source": [
    "今天的学习结束了，来首歌洗下脑："
   ]
  },
  {
   "cell_type": "code",
   "execution_count": 1,
   "metadata": {},
   "outputs": [
    {
     "data": {
      "text/html": [
       "<iframe frameborder=\"no\" border=\"0\" marginwidth=\"0\" marginheight=\"0\" width=330 height=86 src=\"//music.163.com/outchain/player?type=2&id=399354373&auto=0&height=66\"></iframe>"
      ],
      "text/plain": [
       "<IPython.core.display.HTML object>"
      ]
     },
     "execution_count": 1,
     "metadata": {},
     "output_type": "execute_result"
    }
   ],
   "source": [
    "from IPython.display import HTML\n",
    "\n",
    "HTML('<iframe frameborder=\"no\" border=\"0\" marginwidth=\"0\" marginheight=\"0\" width=330 height=86 src=\"//music.163.com/outchain/player?type=2&id=399354373&auto=0&height=66\"></iframe>')"
   ]
  }
 ],
 "metadata": {
  "kernelspec": {
   "display_name": "Python 3",
   "language": "python",
   "name": "python3"
  },
  "language_info": {
   "codemirror_mode": {
    "name": "ipython",
    "version": 3
   },
   "file_extension": ".py",
   "mimetype": "text/x-python",
   "name": "python",
   "nbconvert_exporter": "python",
   "pygments_lexer": "ipython3",
   "version": "3.6.3"
  }
 },
 "nbformat": 4,
 "nbformat_minor": 2
}
