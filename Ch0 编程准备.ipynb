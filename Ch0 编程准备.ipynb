{
 "cells": [
  {
   "cell_type": "markdown",
   "metadata": {},
   "source": [
    "<img src='./image/ch0.0.png' width='769' align='center'>"
   ]
  },
  {
   "cell_type": "code",
   "execution_count": 14,
   "metadata": {
    "scrolled": true
   },
   "outputs": [
    {
     "data": {
      "text/html": [
       "<iframe width=600 height=400 src=\"//player.bilibili.com/player.html?aid=43863042&cid=76842103&page=1\" scrolling=\"no\" border=\"0\" frameborder=\"no\" framespacing=\"0\" allowfullscreen=\"true\"> </iframe>"
      ],
      "text/plain": [
       "<IPython.core.display.HTML object>"
      ]
     },
     "execution_count": 14,
     "metadata": {},
     "output_type": "execute_result"
    }
   ],
   "source": [
    "from IPython.display import HTML\n",
    "\n",
    "# video\n",
    "HTML('<iframe width=600 height=400 src=\"//player.bilibili.com/player.html?aid=43863042&cid=76842103&page=1\" scrolling=\"no\" border=\"0\" frameborder=\"no\" framespacing=\"0\" allowfullscreen=\"true\"> </iframe>')\n"
   ]
  },
  {
   "cell_type": "markdown",
   "metadata": {},
   "source": [
    "<img src='./image/ch0.1.png' width=368 align=left>"
   ]
  },
  {
   "cell_type": "markdown",
   "metadata": {},
   "source": [
    "在开始学编程前，先回答一下这两个问题。\n",
    "\n",
    "1. 为什么想学编程？\n",
    "<br>\n",
    "<br>\n",
    "\n",
    "2. 想通过编程做什么项目？\n",
    "<br>\n",
    "<br>\n",
    "\n",
    "拿出纸写下你的答案，之所以问这两个问题，是希望在学习之前树立清晰的学习目标，这样学习效果会更好。如果现在没有想清楚也没关系，先试着学习几章，边走边看。"
   ]
  },
  {
   "cell_type": "markdown",
   "metadata": {},
   "source": [
    "# 编程准备\n",
    "\n",
    "工欲善其事，必先利其器，开始编程前，先安装 Python，设置好编程环境。\n",
    "\n",
    "## 安装和运行 Python \n",
    "\n",
    "接下来主要演示在 Windows 电脑上安装和运行 Python 的过程，Mac 电脑上安装 Python 可以参考这个[视频](https://www.bilibili.com/video/av53680657)。从 [Python 官网](https://www.python.org/downloads/)下载 Python 安装包进行安装即可，安装过程中，注意勾选“Add Python to Path”这个选项。\n",
    "\n",
    "<img src='./image/ch0.2.png' width=400 align=left>"
   ]
  },
  {
   "cell_type": "markdown",
   "metadata": {},
   "source": [
    "安装完成后，从“开始”菜单找到 IDLE(Python) 并启动，会出现以下界面：\n",
    "\n",
    "<img src='./image/ch0.3.png' width=400 align=left>"
   ]
  },
  {
   "cell_type": "markdown",
   "metadata": {},
   "source": [
    "这是 Python Shell 界面，在这里可以直接运行程序，比如上图中计算了 3+2 的值。如果想保存编写的代码，建议新建一个文件。\n",
    "\n",
    "<img src='./image/ch0.4.png' width=800 align=left>"
   ]
  },
  {
   "cell_type": "markdown",
   "metadata": {},
   "source": [
    "如上图所示，在新建的文件中编写代码，然后按 “Ctrl+S”，选择保存位置，给文件命名，点击保存按钮即可。\n",
    "\n",
    "<img src='./image/ch0.5.png' width=400 align=left>"
   ]
  },
  {
   "cell_type": "markdown",
   "metadata": {},
   "source": [
    "如果想运行代码，选择 “Run>Run Module” 或直接按 F5，程序运行结果会在 Python Shell 中显示。第 1 行代码表示将 3+2 的结果打印出来。\n",
    "\n",
    "<img src='./image/ch0.6.png' width=800 align=left>"
   ]
  },
  {
   "cell_type": "markdown",
   "metadata": {},
   "source": [
    "<img src='./image/ch0.7.png' width=400 align=left>"
   ]
  },
  {
   "cell_type": "markdown",
   "metadata": {},
   "source": [
    "## 如何使用本教程？\n",
    "\n",
    "本教程的内容是为 Python 初学者编写的，第 1-10 章会介绍 Python 的基础知识，第 11-16 章围绕游戏设计展开，通过制作游戏对前面所学知识进行运用和巩固。在学习过程中，建议按章节顺序进行学习，因为后面的章节是以前面的章节为基础的。\n",
    "\n",
    "在学习过程中，务必将教程中的代码敲一遍，在编程实践中提升编程能力。光看教程而不动手是学不好编程的，如果学习过程中遇到问题，欢迎加入 Python 学习交流 QQ 群 972037891。\n",
    "\n",
    "<img src='./image/ch0.8.png' width=260 align=left>\n",
    "<img src='./image/ch0.9.png' width=220 align=left>"
   ]
  },
  {
   "cell_type": "code",
   "execution_count": 6,
   "metadata": {},
   "outputs": [
    {
     "data": {
      "text/html": [
       "<iframe frameborder=\"no\" border=\"0\" marginwidth=\"0\" marginheight=\"0\" width=330 height=86 src=\"//music.163.com/outchain/player?type=2&id=445546970&auto=0&height=66\"></iframe>"
      ],
      "text/plain": [
       "<IPython.core.display.HTML object>"
      ]
     },
     "execution_count": 6,
     "metadata": {},
     "output_type": "execute_result"
    }
   ],
   "source": [
    "from IPython.display import HTML\n",
    "\n",
    "# Music\n",
    "HTML('<iframe frameborder=\"no\" border=\"0\" marginwidth=\"0\" marginheight=\"0\" width=330 height=86 src=\"//music.163.com/outchain/player?type=2&id=445546970&auto=0&height=66\"></iframe>')\n"
   ]
  },
  {
   "cell_type": "markdown",
   "metadata": {},
   "source": [
    "## 编程挑战\n",
    "1. 从网上查找资料，看一看学 Python 能做什么。"
   ]
  }
 ],
 "metadata": {
  "kernelspec": {
   "display_name": "Python 3",
   "language": "python",
   "name": "python3"
  },
  "language_info": {
   "codemirror_mode": {
    "name": "ipython",
    "version": 3
   },
   "file_extension": ".py",
   "mimetype": "text/x-python",
   "name": "python",
   "nbconvert_exporter": "python",
   "pygments_lexer": "ipython3",
   "version": "3.7.3"
  }
 },
 "nbformat": 4,
 "nbformat_minor": 2
}
