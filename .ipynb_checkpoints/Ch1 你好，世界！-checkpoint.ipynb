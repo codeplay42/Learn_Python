{
 "cells": [
  {
   "cell_type": "markdown",
   "metadata": {},
   "source": [
    "# hello, world！\n",
    "我们如何与计算机交流呢？毕竟计算机不能直接听懂我们说的话。其实，编程语言就是一种和计算机“对话”的语言，比如让计算机打印出 “Hello World”。我们将数据或指令通过键盘输入计算机，计算机进行处理，然后通过屏幕、扬声器将结果输出，这是一种常见的和计算机互动的方式。"
   ]
  },
  {
   "cell_type": "code",
   "execution_count": 1,
   "metadata": {},
   "outputs": [
    {
     "name": "stdout",
     "output_type": "stream",
     "text": [
      "Hello World\n"
     ]
    }
   ],
   "source": [
    "print('Hello World')"
   ]
  },
  {
   "cell_type": "markdown",
   "metadata": {},
   "source": [
    "## 打印 print()\n",
    "print() 是 Python 中一个很常用的命令，它可以将括号中的内容“打印”到屏幕上。用它打印数学运算的结果也很方便："
   ]
  },
  {
   "cell_type": "code",
   "execution_count": 3,
   "metadata": {},
   "outputs": [
    {
     "name": "stdout",
     "output_type": "stream",
     "text": [
      "12\n"
     ]
    }
   ],
   "source": [
    "print(6+6)"
   ]
  },
  {
   "cell_type": "markdown",
   "metadata": {},
   "source": [
    "注意，第一个程序中的 Hello World 加了单引号，为什么要加引号在介绍数据类型时会讲到。让计算机做基础的数学运算，这也是编程的基本操作了，毕竟计算机最初就是为了计算而生的。编程做加减乘除运算很方便，为了查看运算结果，可以用 print() 将运算结果打印出来。"
   ]
  },
  {
   "cell_type": "code",
   "execution_count": 19,
   "metadata": {},
   "outputs": [
    {
     "name": "stdout",
     "output_type": "stream",
     "text": [
      "8\n",
      "4\n",
      "12\n",
      "3.0\n"
     ]
    }
   ],
   "source": [
    "print(6 + 2)\n",
    "print(6 - 2)\n",
    "print(6 * 2)\n",
    "print(6 / 2)"
   ]
  },
  {
   "cell_type": "markdown",
   "metadata": {},
   "source": [
    "<img src='image/ch1.0.png' width=800 align=center>"
   ]
  },
  {
   "cell_type": "markdown",
   "metadata": {},
   "source": [
    "从上一个程序你发现了什么？Python 中的数学运算符号和数学中的运算符号有点区别，乘法用星号 * ，除法用斜杠 / 表示。还有其它不同的符号：\n",
    "\n",
    "\n",
    "| 运算 | 符号 |\n",
    "|------|------|\n",
    "|  加  | + |\n",
    "|  减  | - |\n",
    "|  乘  | * |\n",
    "|  除  | / |\n",
    "|  乘方 | ** |\n",
    "|  取余 | % |\n",
    "|  取整除 | // |\n",
    "\n",
    "\n",
    "取余是什么意思？运行代码测试一下就知道了。"
   ]
  },
  {
   "cell_type": "code",
   "execution_count": 20,
   "metadata": {},
   "outputs": [
    {
     "name": "stdout",
     "output_type": "stream",
     "text": [
      "1\n",
      "2\n"
     ]
    }
   ],
   "source": [
    "print(5 % 2)\n",
    "print(5 // 2)"
   ]
  },
  {
   "cell_type": "markdown",
   "metadata": {},
   "source": [
    "从运行结果可以看出，取余即取整除后的余数，取整除即取商的整数部分。既然 print() 可以打印出字符，那么是不是可以用它来打印出一些形状？"
   ]
  },
  {
   "cell_type": "code",
   "execution_count": 21,
   "metadata": {
    "scrolled": true
   },
   "outputs": [
    {
     "name": "stdout",
     "output_type": "stream",
     "text": [
      "*\n",
      "**\n",
      "***\n",
      "****\n",
      "*****\n",
      "******\n"
     ]
    }
   ],
   "source": [
    "print('*')\n",
    "print('**')\n",
    "print('***')\n",
    "print('****')\n",
    "print('*****')\n",
    "print('******')"
   ]
  },
  {
   "cell_type": "markdown",
   "metadata": {},
   "source": [
    "print() 提供了一个和程序交互的方式——让程序输出值，进行测试和调试时会经常用到它。\n",
    "\n",
    "【试一试】\n",
    "\n",
    "请用 print() 打印出这个表情 @_@ 。"
   ]
  },
  {
   "cell_type": "markdown",
   "metadata": {},
   "source": [
    "# 数据类型\n",
    "在 Python 中，数据有不同的类型。基本数据类型包括整数、浮点数、字符串、布尔值。\n",
    "* 整数：int，即数学中的整数\n",
    "* 浮点数：float，即数学中的小数\n",
    "* 字符串：string，用单引号 '' 或双引号 \" \" 围住的字符就是字符串，如 '11'、'abc'、\"&t\"，注意这里的引号是指英文的引号 ''，而非中文的引号 ‘’。字符串必须加引号，否则会出错。\n",
    "* 布尔值：bool，包括 True 和 False 两种值，表示真和假，也可以用 1 和 0 表示。后面讲条件判断的时候，会用到布尔值，现在不理解也没关系。\n",
    "\n",
    "<img src='image/ch1.1.png' width=468 align=left>"
   ]
  },
  {
   "cell_type": "code",
   "execution_count": 6,
   "metadata": {},
   "outputs": [
    {
     "name": "stdout",
     "output_type": "stream",
     "text": [
      "a\n"
     ]
    },
    {
     "ename": "NameError",
     "evalue": "name 'a' is not defined",
     "output_type": "error",
     "traceback": [
      "\u001b[1;31m---------------------------------------------------------------------------\u001b[0m",
      "\u001b[1;31mNameError\u001b[0m                                 Traceback (most recent call last)",
      "\u001b[1;32m<ipython-input-6-2f3b03d59fc3>\u001b[0m in \u001b[0;36m<module>\u001b[1;34m\u001b[0m\n\u001b[0;32m      1\u001b[0m \u001b[0mprint\u001b[0m\u001b[1;33m(\u001b[0m\u001b[1;34m'a'\u001b[0m\u001b[1;33m)\u001b[0m\u001b[1;33m\u001b[0m\u001b[1;33m\u001b[0m\u001b[0m\n\u001b[1;32m----> 2\u001b[1;33m \u001b[0mprint\u001b[0m\u001b[1;33m(\u001b[0m\u001b[0ma\u001b[0m\u001b[1;33m)\u001b[0m\u001b[1;33m\u001b[0m\u001b[1;33m\u001b[0m\u001b[0m\n\u001b[0m",
      "\u001b[1;31mNameError\u001b[0m: name 'a' is not defined"
     ]
    }
   ],
   "source": [
    "print('a')\n",
    "print(a)"
   ]
  },
  {
   "cell_type": "markdown",
   "metadata": {},
   "source": [
    "在上面的程序中，a 是字符串，没有加引号，所以打印会出现错误。字符串可以通过 + 号拼接起来，不过和加法不一样。看一下以下程序的运行结果吧。"
   ]
  },
  {
   "cell_type": "code",
   "execution_count": 4,
   "metadata": {},
   "outputs": [
    {
     "name": "stdout",
     "output_type": "stream",
     "text": [
      "abc\n"
     ]
    }
   ],
   "source": [
    "print('a' + 'bc')"
   ]
  },
  {
   "cell_type": "markdown",
   "metadata": {},
   "source": [
    "那么 3.0 是整数还是小数呢？如果不确定数据类型，可以使用 type() 来查看。"
   ]
  },
  {
   "cell_type": "code",
   "execution_count": 7,
   "metadata": {},
   "outputs": [
    {
     "name": "stdout",
     "output_type": "stream",
     "text": [
      "<class 'float'>\n"
     ]
    }
   ],
   "source": [
    "print(type(3.0))"
   ]
  },
  {
   "cell_type": "markdown",
   "metadata": {},
   "source": [
    "# 编程挑战\n",
    "1. 请将 nice、2、meet、you 拼接在一起。\n",
    "<br>\n",
    "<br>\n",
    "<br>\n",
    "2. 请查看 3 + 3.0 计算后结果的数据类型。\n",
    "<br>\n",
    "<br>\n",
    "<br>\n",
    "3. 请计算布尔值 True + 2 的结果，并想一想为什么。False + 2 的值又是多少？\n",
    "<br>\n",
    "<br>"
   ]
  },
  {
   "cell_type": "markdown",
   "metadata": {},
   "source": [
    "<img src='image/ch1.2.png' width=480 align=left>"
   ]
  },
  {
   "cell_type": "code",
   "execution_count": 1,
   "metadata": {},
   "outputs": [
    {
     "data": {
      "text/html": [
       "<iframe frameborder=\"no\" border=\"0\" marginwidth=\"0\" marginheight=\"0\" width=330 height=86 src=\"//music.163.com/outchain/player?type=2&id=514543314&auto=0&height=66\"></iframe>"
      ],
      "text/plain": [
       "<IPython.core.display.HTML object>"
      ]
     },
     "execution_count": 1,
     "metadata": {},
     "output_type": "execute_result"
    }
   ],
   "source": [
    "from IPython.display import HTML\n",
    "\n",
    "# Music\n",
    "HTML('<iframe frameborder=\"no\" border=\"0\" marginwidth=\"0\" marginheight=\"0\" width=330 height=86 src=\"//music.163.com/outchain/player?type=2&id=514543314&auto=0&height=66\"></iframe>')\n"
   ]
  }
 ],
 "metadata": {
  "kernelspec": {
   "display_name": "Python 3",
   "language": "python",
   "name": "python3"
  },
  "language_info": {
   "codemirror_mode": {
    "name": "ipython",
    "version": 3
   },
   "file_extension": ".py",
   "mimetype": "text/x-python",
   "name": "python",
   "nbconvert_exporter": "python",
   "pygments_lexer": "ipython3",
   "version": "3.6.3"
  }
 },
 "nbformat": 4,
 "nbformat_minor": 2
}
