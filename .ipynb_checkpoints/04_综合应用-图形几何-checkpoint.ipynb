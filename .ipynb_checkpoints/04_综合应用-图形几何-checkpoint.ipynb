{
 "cells": [
  {
   "cell_type": "markdown",
   "metadata": {},
   "source": [
    "# 图形几何\n",
    "回顾一下前 3 章学习的内容：\n",
    "- print() 与数据类型\n",
    "- for 循环和 while 循环\n",
    "- 条件判断、数学运算符、逻辑运算符、比较运算符\n",
    "- 海龟画图\n",
    "\n",
    "是时候用这些知识做点真正的项目了。前面学过使用 Turtle 画正 N 边形的程序，先来回顾一下："
   ]
  },
  {
   "cell_type": "code",
   "execution_count": 1,
   "metadata": {},
   "outputs": [],
   "source": [
    "import turtle\n",
    "\n",
    "tony = turtle.Turtle()\n",
    "n = 3\n",
    "for i in range(n):\n",
    "    tony.forward(80)\n",
    "    tony.right(360 / n)\n",
    "\n",
    "turtle.done()\n",
    "\n",
    "# 解决在 Jupyter Notebook 第二次运行出错的方法\n",
    "# https://github.com/spyder-ide/spyder/wiki/How-to-run-turtle-scripts-within-Spyder\n",
    "try:\n",
    "    turtle.bye()   \n",
    "except turtle.Terminator:\n",
    "    pass"
   ]
  },
  {
   "cell_type": "markdown",
   "metadata": {},
   "source": [
    "<img src='images/ch4.1.png' width='100' align='left'>"
   ]
  },
  {
   "cell_type": "markdown",
   "metadata": {},
   "source": [
    "现在画出了一个三角形，如果想画出下图的图案，程序该如何编写呢？\n",
    "\n",
    "<img src='images/ch4.5.png' width='200' align='left'>"
   ]
  },
  {
   "cell_type": "markdown",
   "metadata": {},
   "source": [
    "通过观察，你会发现上图由 6 个等边三角形组成。画上图就相当于画 6 个三角形，画完第一个三角形，将画笔旋转一定角度，再画第二个三角形。\n",
    "\n",
    "<img src='images/ch4.0.png' width='220' align='left'>"
   ]
  },
  {
   "cell_type": "code",
   "execution_count": 25,
   "metadata": {},
   "outputs": [],
   "source": [
    "import turtle\n",
    "\n",
    "tony = turtle.Turtle()\n",
    "n = 3\n",
    "for i in range(n):\n",
    "    tony.forward(80)\n",
    "    tony.right(360 / n)\n",
    "\n",
    "tony.right(60)  # 海龟旋转 60 度\n",
    "for i in range(n):  # 画第二个三角形\n",
    "    tony.forward(80)\n",
    "    tony.right(360 / n)\n",
    "turtle.done()\n",
    "\n",
    "# 解决在 Jupyter Notebook 第二次运行出错的方法\n",
    "# https://github.com/spyder-ide/spyder/wiki/How-to-run-turtle-scripts-within-Spyder\n",
    "try:\n",
    "    turtle.bye()   \n",
    "except turtle.Terminator:\n",
    "    pass"
   ]
  },
  {
   "cell_type": "markdown",
   "metadata": {},
   "source": [
    "<img src='images/ch4.2.png' width='150' align='left'>"
   ]
  },
  {
   "cell_type": "markdown",
   "metadata": {},
   "source": [
    "画完第一个三角形后旋转 60 度，再画第二个三角形，正好这两个三角形挨着。如果要继续画第三个三角形，可以继续复制粘贴代码。"
   ]
  },
  {
   "cell_type": "code",
   "execution_count": 27,
   "metadata": {},
   "outputs": [],
   "source": [
    "import turtle\n",
    "\n",
    "tony = turtle.Turtle()\n",
    "n = 3\n",
    "for i in range(n):\n",
    "    tony.forward(80)\n",
    "    tony.right(360 / n)\n",
    "\n",
    "tony.right(60)  # 海龟旋转 60 度\n",
    "for i in range(n):  # 画第二个三角形\n",
    "    tony.forward(80)\n",
    "    tony.right(360 / n)\n",
    "    \n",
    "tony.right(60)  # 海龟旋转 60 度\n",
    "for i in range(n):  # 画第三个三角形\n",
    "    tony.forward(80)\n",
    "    tony.right(360 / n)\n",
    "turtle.done()\n",
    "\n",
    "# 解决在 Jupyter Notebook 第二次运行出错的方法\n",
    "# https://github.com/spyder-ide/spyder/wiki/How-to-run-turtle-scripts-within-Spyder\n",
    "try:\n",
    "    turtle.bye()   \n",
    "except turtle.Terminator:\n",
    "    pass"
   ]
  },
  {
   "cell_type": "markdown",
   "metadata": {},
   "source": [
    "<img src='images/ch4.3.png' width='200' align='left'>"
   ]
  },
  {
   "cell_type": "markdown",
   "metadata": {},
   "source": [
    "可以继续复制粘贴代码来画出 6 个拼在一起的三角形，不过这样有点麻烦。观察一下上一个程序，后面每多画一个三角形，新增的代码是一样的，那么像这种重复的代码可以使用 for 循环来代替。画三角形是通过 for 循环实现的，再添加一层 for 循环画多个三角形，这种循环中嵌套循环就是嵌套循环。"
   ]
  },
  {
   "cell_type": "markdown",
   "metadata": {},
   "source": [
    "# 嵌套循环\n",
    "接上一个程序，使用嵌套循环画图案，代码如下："
   ]
  },
  {
   "cell_type": "code",
   "execution_count": 3,
   "metadata": {},
   "outputs": [],
   "source": [
    "import turtle\n",
    "\n",
    "tony = turtle.Turtle()\n",
    "n = 3  # 边数\n",
    "\n",
    "for j in range(6):  \n",
    "    for i in range(n):\n",
    "        tony.forward(80)\n",
    "        tony.right(360 / n)\n",
    "    tony.right(60)\n",
    "turtle.done()\n",
    "\n",
    "# 解决在 Jupyter Notebook 第二次运行出错的方法\n",
    "# https://github.com/spyder-ide/spyder/wiki/How-to-run-turtle-scripts-within-Spyder\n",
    "try:\n",
    "    turtle.bye()   \n",
    "except turtle.Terminator:\n",
    "    pass"
   ]
  },
  {
   "cell_type": "markdown",
   "metadata": {},
   "source": [
    "结合绘图过程来理解这里 for 循环的运行过程。外层的 for 循环每运行一次，里层的 for 循环就要运行 n 次。里层 for 循环运行 n 次可以画出一个正 n 边形，外层 for 循环运行 6 次，则可以画出 6 个正 n 边形。用变量 m 代表画三角形的次数，并且每画完一个三角形旋转 360/m 度，这样三角形可以拼成一个完整的图案。"
   ]
  },
  {
   "cell_type": "code",
   "execution_count": 4,
   "metadata": {},
   "outputs": [],
   "source": [
    "import turtle\n",
    "\n",
    "tony = turtle.Turtle()\n",
    "n = 3  # 边数\n",
    "m = 3  # 画多边形的次数\n",
    "for j in range(m):\n",
    "    for i in range(n):\n",
    "        tony.forward(80)\n",
    "        tony.right(360 / n)\n",
    "    tony.right(360 / m)\n",
    "turtle.done()\n",
    "\n",
    "# 解决在 Jupyter Notebook 第二次运行出错的方法\n",
    "# https://github.com/spyder-ide/spyder/wiki/How-to-run-turtle-scripts-within-Spyder\n",
    "try:\n",
    "    turtle.bye()   \n",
    "except turtle.Terminator:\n",
    "    pass"
   ]
  },
  {
   "cell_type": "markdown",
   "metadata": {},
   "source": [
    "分别让 m 等于 3、6、9 可以画出下面这些图案。"
   ]
  },
  {
   "cell_type": "markdown",
   "metadata": {},
   "source": [
    "<img src='images/ch4.4.png' width='200' align='left'>\n",
    "<img src='images/ch4.5.png' width='200' align='left'>\n",
    "<img src='images/ch4.6.png' width='200' align='left'>"
   ]
  },
  {
   "cell_type": "markdown",
   "metadata": {},
   "source": [
    "如果让 m、n 分别都等于 6、8、10 则可以画出下面这些图案。想一想这是为什么？"
   ]
  },
  {
   "cell_type": "markdown",
   "metadata": {},
   "source": [
    "<img src='images/ch4.7.png' width='300' align='left'>\n",
    "<img src='images/ch4.8.png' width='260' align='left'>\n",
    "<img src='images/ch4.9.png' width='280' align='left'>"
   ]
  },
  {
   "cell_type": "markdown",
   "metadata": {},
   "source": [
    "试一下其他的数值吧，看你能画出什么图案。"
   ]
  },
  {
   "cell_type": "markdown",
   "metadata": {},
   "source": [
    "# 编程挑战\n",
    "1. 请画出以下图案，注意四边形的内角分别为 60 和 120 度。\n",
    "\n",
    "<img src='images/ch4.10.png' width='200' align='left'>"
   ]
  },
  {
   "cell_type": "markdown",
   "metadata": {},
   "source": [
    "\n",
    "\n",
    "2. 在第一题程序的基础上画出以下图案。\n",
    "\n",
    "<img src='images/ch4.11.png' width='300' align='left'>"
   ]
  },
  {
   "cell_type": "markdown",
   "metadata": {},
   "source": [
    "3. 在第二题程序的基础上画出以下图案。\n",
    "\n",
    "<img src='images/ch4.12.png' width='300' align='left'>"
   ]
  },
  {
   "cell_type": "markdown",
   "metadata": {},
   "source": [
    "学习完就是要听歌。"
   ]
  },
  {
   "cell_type": "code",
   "execution_count": 1,
   "metadata": {},
   "outputs": [
    {
     "data": {
      "text/html": [
       "<iframe frameborder=\"no\" border=\"0\" marginwidth=\"0\" marginheight=\"0\" width=330 height=86 src=\"//music.163.com/outchain/player?type=2&id=472716426&auto=0&height=66\"></iframe>"
      ],
      "text/plain": [
       "<IPython.core.display.HTML object>"
      ]
     },
     "execution_count": 1,
     "metadata": {},
     "output_type": "execute_result"
    }
   ],
   "source": [
    "from IPython.display import HTML\n",
    "\n",
    "HTML('<iframe frameborder=\"no\" border=\"0\" marginwidth=\"0\" marginheight=\"0\" width=330 height=86 src=\"//music.163.com/outchain/player?type=2&id=472716426&auto=0&height=66\"></iframe>')"
   ]
  }
 ],
 "metadata": {
  "kernelspec": {
   "display_name": "Python 3",
   "language": "python",
   "name": "python3"
  },
  "language_info": {
   "codemirror_mode": {
    "name": "ipython",
    "version": 3
   },
   "file_extension": ".py",
   "mimetype": "text/x-python",
   "name": "python",
   "nbconvert_exporter": "python",
   "pygments_lexer": "ipython3",
   "version": "3.7.5"
  }
 },
 "nbformat": 4,
 "nbformat_minor": 2
}
