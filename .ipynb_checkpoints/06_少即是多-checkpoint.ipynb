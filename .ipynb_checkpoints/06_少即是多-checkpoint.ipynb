{
 "cells": [
  {
   "cell_type": "markdown",
   "metadata": {},
   "source": [
    "## 如何让代码更灵活？\n",
    "相信通过前面的学习，你知道了使用循环可以减少重复代码的数量，比如在屏幕上随机画 N 个不同颜色的正方形。\n",
    "\n",
    "<img src='images/ch6.0.png' width='400' align='left'>"
   ]
  },
  {
   "cell_type": "code",
   "execution_count": 16,
   "metadata": {},
   "outputs": [],
   "source": [
    "import turtle\n",
    "import random\n",
    "\n",
    "tony = turtle.Turtle()\n",
    "color = ['red', 'orange', 'yellow', 'green', 'blue', 'indigo', 'violet']\n",
    "tony.speed('fastest')  # 设置画笔的速度为最快\n",
    "for j in range(10):\n",
    "    x = random.randint(-200, 200)  # 生成[-200, 200]范围内的随机整数\n",
    "    y = random.randint(-200, 200)\n",
    "    tony.penup()\n",
    "    tony.goto(x, y)\n",
    "    tony.pencolor(random.choice(color))  # random.choice() 能从列表中随机选择一个元素，这里是随机选择一个颜色\n",
    "    for i in range(4):\n",
    "        tony.pendown()\n",
    "        tony.forward(100)\n",
    "        tony.left(90)\n",
    "\n",
    "tony.hideturtle()  # 画完之后，隐藏画笔        \n",
    "turtle.done()\n",
    "\n",
    "\n",
    "# 解决在 Jupyter Notebook 第二次运行出错的方法\n",
    "# https://github.com/spyder-ide/spyder/wiki/How-to-run-turtle-scripts-within-Spyder\n",
    "try:\n",
    "    turtle.bye()   \n",
    "except turtle.Terminator:\n",
    "    pass"
   ]
  },
  {
   "cell_type": "markdown",
   "metadata": {},
   "source": [
    "这个程序中使用了两个 for 循环在画布的随机位置画 10 个颜色和位置随机的正方形。里层的 for 循环用来画正方形，外层的 for 循环用来画 10 个正方形。使用 for 循环可以大大减少重复代码的数量。不过，如果想画 10 个边长为 80 的正方形，10 个边长为 120 的正方形，那么代码仍然需要较大的修改，有没有办法让这段代码更灵活呢？是时候考虑函数了。"
   ]
  },
  {
   "cell_type": "markdown",
   "metadata": {},
   "source": [
    "## 函数\n",
    "函数是完成特定功能的一段代码，print() 就是函数，在之前编程过程中，有多次用到，它的功能就是打印处括号里面的内容。不过 print() 是 Python 中内置的函数，可以直接使用，而不需要我们再定义它。不过，自己定义一个函数也很简单，以定义一个画正方形的函数 squre() 为例："
   ]
  },
  {
   "cell_type": "code",
   "execution_count": 17,
   "metadata": {},
   "outputs": [],
   "source": [
    "import turtle\n",
    "import random\n",
    "\n",
    "tony = turtle.Turtle()\n",
    "\n",
    "def squre(l):  # l 是函数的参数，代表正方形的边长\n",
    "    for i in range(4):\n",
    "        tony.forward(l)\n",
    "        tony.left(90)\n",
    "\n",
    "squre(150)  # 调用函数，画一个边长为 150 的正方形  \n",
    "tony.hideturtle()  # 画完之后，隐藏画笔 \n",
    "turtle.done()     \n",
    "\n",
    "# 解决在 Jupyter Notebook 第二次运行出错的方法\n",
    "# https://github.com/spyder-ide/spyder/wiki/How-to-run-turtle-scripts-within-Spyder\n",
    "try:\n",
    "    turtle.bye()   \n",
    "except turtle.Terminator:\n",
    "    pass"
   ]
  },
  {
   "cell_type": "markdown",
   "metadata": {},
   "source": [
    "程序中使用 **def 函数名(参数1，参数2，...)** 的形式定义函数，括号中的参数可以有很多个，函数名建议取能代表函数功能的名字，这样可以一眼看出函数的功能。在调用函数的时候，直接使用 **函数名(参数)** 的形式。因为引入了参数，可以非常方便地满足个性化的需求，这里边长 l 可以根据具体需要来定。函数定义好之后，可以在多处调用，大大减少了重复代码的数量。再看另一个例子，第 2 章中画正 N 边形的例子，用函数的形式改造代码，代码看起来更有条理："
   ]
  },
  {
   "cell_type": "code",
   "execution_count": 19,
   "metadata": {},
   "outputs": [],
   "source": [
    "import turtle\n",
    "import random\n",
    "\n",
    "tony = turtle.Turtle()\n",
    "color = ['red', 'orange', 'yellow', 'green', 'blue', 'indigo', 'violet']\n",
    "\n",
    "def polygon(n, l):  # 画正 N 边形\n",
    "    for i in range(n):\n",
    "        tony.forward(l)\n",
    "        tony.right(360/n)\n",
    "        \n",
    "def multi_polygon(n):  # 画 N 个正 N 边形\n",
    "    for j in range(n):\n",
    "        tony.pencolor(random.choice(color))\n",
    "        polygon(n, 100)  \n",
    "        tony.right(360 / n)\n",
    "\n",
    "multi_polygon(6)\n",
    "tony.hideturtle()\n",
    "turtle.done()\n",
    "\n",
    "# 解决在 Jupyter Notebook 第二次运行出错的方法\n",
    "# https://github.com/spyder-ide/spyder/wiki/How-to-run-turtle-scripts-within-Spyder\n",
    "try:\n",
    "    turtle.bye()   \n",
    "except turtle.Terminator:\n",
    "    pass"
   ]
  },
  {
   "cell_type": "markdown",
   "metadata": {},
   "source": [
    "在定义 multi_polygon() 函数时，调用了 polygon() 函数。没错，定义函数时也可以调用已经定义好的函数，这样可以根据需要组合不同功能的函数。函数参数是调用函数时传递给函数的数据，定义函数时，也可以不使用参数。"
   ]
  },
  {
   "cell_type": "markdown",
   "metadata": {},
   "source": [
    "# 编程挑战\n",
    "1. 函数可以使用 return 返回值，请查看以下示例。函数返回值可以赋值给变量。请编写一个计算两个数相乘的函数，并返回相乘结果。"
   ]
  },
  {
   "cell_type": "code",
   "execution_count": 11,
   "metadata": {},
   "outputs": [
    {
     "name": "stdout",
     "output_type": "stream",
     "text": [
      "5\n"
     ]
    }
   ],
   "source": [
    "def sum(a, b):\n",
    "    c = a + b\n",
    "    return c\n",
    "\n",
    "result = sum(2, 3)\n",
    "print(result)"
   ]
  },
  {
   "cell_type": "markdown",
   "metadata": {},
   "source": [
    "2. return 可以返回多个值，多个值之间用逗号隔开，请在第 1 题的基础上，返回 a、b 和 c。\n",
    "<br>\n",
    "<br>\n",
    "<br>\n",
    "\n",
    "3. 根据前面画正 N 边形的程序，定义一个在画布上随机位置画 num 个正 N 边形的函数，函数参数为多边形数量 num 和边长 l，多边形的边数是 [3, 6] 之间的随机数，并调用它画 10 个随机边数的正多边形。\n",
    "<br>\n",
    "<br>\n",
    "<br>"
   ]
  },
  {
   "cell_type": "code",
   "execution_count": 25,
   "metadata": {},
   "outputs": [
    {
     "data": {
      "text/html": [
       "<iframe frameborder=\"no\" border=\"0\" marginwidth=\"0\" marginheight=\"0\" width=330 height=86 src=\"//music.163.com/outchain/player?type=2&id=37778113&auto=0&height=66\"></iframe>"
      ],
      "text/plain": [
       "<IPython.core.display.HTML object>"
      ]
     },
     "execution_count": 25,
     "metadata": {},
     "output_type": "execute_result"
    }
   ],
   "source": [
    "from IPython.display import HTML\n",
    "\n",
    "# Music\n",
    "HTML('<iframe frameborder=\"no\" border=\"0\" marginwidth=\"0\" marginheight=\"0\" width=330 height=86 src=\"//music.163.com/outchain/player?type=2&id=37778113&auto=0&height=66\"></iframe>')\n"
   ]
  }
 ],
 "metadata": {
  "kernelspec": {
   "display_name": "Python 3",
   "language": "python",
   "name": "python3"
  },
  "language_info": {
   "codemirror_mode": {
    "name": "ipython",
    "version": 3
   },
   "file_extension": ".py",
   "mimetype": "text/x-python",
   "name": "python",
   "nbconvert_exporter": "python",
   "pygments_lexer": "ipython3",
   "version": "3.7.5"
  }
 },
 "nbformat": 4,
 "nbformat_minor": 2
}
