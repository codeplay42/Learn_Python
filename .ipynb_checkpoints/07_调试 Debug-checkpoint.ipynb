{
 "cells": [
  {
   "cell_type": "markdown",
   "metadata": {},
   "source": [
    "## Bug 与 Debug\n",
    "\n",
    "<img src='images/ch7.0.png' width='900' align='center'>"
   ]
  },
  {
   "cell_type": "markdown",
   "metadata": {},
   "source": [
    "编程过程中，程序出错是很常见的现象，这种情况下，我们一般称程序有 bug。bug 的中文释义是“虫子”的，将程序出错称为有 bug 据说来自于一个故事：某一天，Mark II 型机器出现故障，技术人员发现是因为机器里面进了一只飞蛾，把飞蛾拿出来后，机器就正常了。后来逐渐流行用 bug 来指代程序有问题。而 Debug 就是排除 bug，也称为“调试”、“捉虫子”。\n",
    "\n",
    "<img src='images/ch7.1.png' width='267' align='left'>"
   ]
  },
  {
   "cell_type": "markdown",
   "metadata": {},
   "source": [
    "bug 的表现形式是多种多样的，从控制台输出结果来看，分为显性和隐性两种。显性的 bug 直接可以从控制台看到错误信息和出错位置："
   ]
  },
  {
   "cell_type": "code",
   "execution_count": 1,
   "metadata": {},
   "outputs": [
    {
     "ename": "TypeError",
     "evalue": "object of type 'int' has no len()",
     "output_type": "error",
     "traceback": [
      "\u001b[1;31m---------------------------------------------------------------------------\u001b[0m",
      "\u001b[1;31mTypeError\u001b[0m                                 Traceback (most recent call last)",
      "\u001b[1;32m<ipython-input-1-c600936a6a83>\u001b[0m in \u001b[0;36m<module>\u001b[1;34m\u001b[0m\n\u001b[0;32m      1\u001b[0m \u001b[0ma\u001b[0m \u001b[1;33m=\u001b[0m \u001b[1;36m2333\u001b[0m\u001b[1;33m\u001b[0m\u001b[1;33m\u001b[0m\u001b[0m\n\u001b[1;32m----> 2\u001b[1;33m \u001b[0mprint\u001b[0m\u001b[1;33m(\u001b[0m\u001b[0mlen\u001b[0m\u001b[1;33m(\u001b[0m\u001b[0ma\u001b[0m\u001b[1;33m)\u001b[0m\u001b[1;33m)\u001b[0m\u001b[1;33m\u001b[0m\u001b[1;33m\u001b[0m\u001b[0m\n\u001b[0m",
      "\u001b[1;31mTypeError\u001b[0m: object of type 'int' has no len()"
     ]
    }
   ],
   "source": [
    "a = 2333\n",
    "print(len(a))"
   ]
  },
  {
   "cell_type": "markdown",
   "metadata": {},
   "source": [
    "从错误提示可以看出：\n",
    "1. 错误原因是整数没有 len()，即 len() 不能对整数使用 ；\n",
    "2. 出错位置在第 2 行。\n",
    "\n",
    "这种情况下，熟悉语法就可以解决问题。如果不明白错误提示，一般复制错误信息，上网查找也可以解决问题。Stack Overflow 是专业的编程问答社区，大部分问题的答案都可以在上面找到。相比显形的 bug，隐形的 bug 才真是让人头大："
   ]
  },
  {
   "cell_type": "code",
   "execution_count": 10,
   "metadata": {},
   "outputs": [
    {
     "name": "stdout",
     "output_type": "stream",
     "text": [
      "i 的值不为 2.5\n",
      "i 的值不为 2.5\n",
      "i 的值不为 2.5\n",
      "i 的值不为 2.5\n",
      "i 的值不为 2.5\n",
      "i 的值不为 2.5\n",
      "i 的值不为 2.5\n"
     ]
    }
   ],
   "source": [
    "a = 2\n",
    "\n",
    "for i in range(1, 8):\n",
    "    a += 0.1\n",
    "    if a == 2.5:\n",
    "        print('i 的值为 2.5')\n",
    "    else:\n",
    "        print('i 的值不为 2.5')"
   ]
  },
  {
   "cell_type": "markdown",
   "metadata": {},
   "source": [
    "程序运行并没有报错，但是，按照程序逻辑，a 每次循环增加 0.1，那么 5 次之后应该是 2.5 呀，为什么相应的代码 print('i 的值为 2.5') 没有执行呢？这种情况下，最简单的办法是用 print() 打印出 a 值，查看它的变化情况："
   ]
  },
  {
   "cell_type": "code",
   "execution_count": 11,
   "metadata": {},
   "outputs": [
    {
     "name": "stdout",
     "output_type": "stream",
     "text": [
      "2.1\n",
      "i 的值不为 2.5\n",
      "2.2\n",
      "i 的值不为 2.5\n",
      "2.3000000000000003\n",
      "i 的值不为 2.5\n",
      "2.4000000000000004\n",
      "i 的值不为 2.5\n",
      "2.5000000000000004\n",
      "i 的值不为 2.5\n",
      "2.6000000000000005\n",
      "i 的值不为 2.5\n",
      "2.7000000000000006\n",
      "i 的值不为 2.5\n"
     ]
    }
   ],
   "source": [
    "a = 2\n",
    "\n",
    "for i in range(1, 8):\n",
    "    a += 0.1\n",
    "    print(a)\n",
    "    if a == 2.5:\n",
    "        print('i 的值为 2.5')\n",
    "    else:\n",
    "        print('i 的值不为 2.5')"
   ]
  },
  {
   "cell_type": "markdown",
   "metadata": {},
   "source": [
    "看到打印出来的结果，现在你明白原因了吧，浮点数相加结果不精确，所以得不到准确的 2.5。所以使用 print() 输出程序运行过程的状态是 Debug 的常见操作。当然，在代码量很大的情况下，debug 的过程可能很复杂，因为涉及的可能因素很多，代码复杂导致难以定位。不妨把可能的问题列出来，一一排查。如果实在找不到原因，不妨转换一下注意力，先做做别的事情，没准突然灵感乍现。\n",
    "\n",
    "但更好的办法是平时养成良好的编程习惯，让代码易读，模块化，里面涉及的东西很多，相信随着编程经验和 debug 经验增加，你可以更快地解决 bug，写出 bug 更少的代码，甚至最终达到 0 error, 0 warning。\n",
    "\n",
    "<img src='images/ch7.2.png' width='260' align='left'>"
   ]
  },
  {
   "cell_type": "markdown",
   "metadata": {},
   "source": [
    "Bug 有时候让人茶饭不思，有时候又让人火大，有时候让人柳暗花明，有时候像雾像雨又像风。它就像一只磨人的小妖精，多少程序员为它眼圈发黑，捶胸顿足。有时候只要改一行代码问题就完美解决，这个时候也值得打开一罐冷藏的肥皂快乐水来庆祝一下了。如果把 Debug 当作一个解谜游戏，也许就能发现其中的乐趣？"
   ]
  },
  {
   "cell_type": "code",
   "execution_count": 1,
   "metadata": {},
   "outputs": [
    {
     "data": {
      "text/html": [
       "<iframe frameborder=\"no\" border=\"0\" marginwidth=\"0\" marginheight=\"0\" width=330 height=86 src=\"//music.163.com/outchain/player?type=2&id=1346472029&auto=0&height=66\"></iframe>"
      ],
      "text/plain": [
       "<IPython.core.display.HTML object>"
      ]
     },
     "execution_count": 1,
     "metadata": {},
     "output_type": "execute_result"
    }
   ],
   "source": [
    "from IPython.display import HTML\n",
    "\n",
    "# Music\n",
    "HTML('<iframe frameborder=\"no\" border=\"0\" marginwidth=\"0\" marginheight=\"0\" width=330 height=86 src=\"//music.163.com/outchain/player?type=2&id=1346472029&auto=0&height=66\"></iframe>')"
   ]
  }
 ],
 "metadata": {
  "kernelspec": {
   "display_name": "Python 3",
   "language": "python",
   "name": "python3"
  },
  "language_info": {
   "codemirror_mode": {
    "name": "ipython",
    "version": 3
   },
   "file_extension": ".py",
   "mimetype": "text/x-python",
   "name": "python",
   "nbconvert_exporter": "python",
   "pygments_lexer": "ipython3",
   "version": "3.7.5"
  }
 },
 "nbformat": 4,
 "nbformat_minor": 2
}
