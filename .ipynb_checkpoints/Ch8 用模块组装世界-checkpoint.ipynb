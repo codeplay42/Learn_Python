{
 "cells": [
  {
   "cell_type": "markdown",
   "metadata": {},
   "source": [
    "## 导入库的 3 种方式\n",
    "Python 的流行不仅在于简洁易懂的语法，更源自丰富的第三方库，第三方库就像乐高积木，将这些库进行组合，可以做出非常丰富的作品。在之前的编程过程中，我们已经使用过海龟库。使用库之前，先要导入库，导入库有 3 种方式。\n",
    "\n",
    "第一种："
   ]
  },
  {
   "cell_type": "code",
   "execution_count": 3,
   "metadata": {},
   "outputs": [],
   "source": [
    "import turtle  \n",
    "\n",
    "pen = turtle.Turtle()\n",
    "for i in range(4):\n",
    "    pen.forward(100)\n",
    "    pen.left(90)\n",
    "    \n",
    "turtle.done()\n",
    "\n",
    "try:\n",
    "    turtle.bye()   \n",
    "except turtle.Terminator:\n",
    "    pass"
   ]
  },
  {
   "cell_type": "markdown",
   "metadata": {},
   "source": [
    "第二种：将导入的库用 as 重新命名，这样在后面编程过程中方便使用，毕竟有的库名很长，还不好记。"
   ]
  },
  {
   "cell_type": "code",
   "execution_count": 4,
   "metadata": {},
   "outputs": [],
   "source": [
    "import turtle as tony\n",
    "\n",
    "pen = tony.Turtle()\n",
    "for i in range(4):\n",
    "    pen.forward(100)\n",
    "    pen.left(90)\n",
    "    \n",
    "tony.done()\n",
    "\n",
    "try:\n",
    "    tony.bye()   \n",
    "except tony.Terminator:\n",
    "    pass"
   ]
  },
  {
   "cell_type": "markdown",
   "metadata": {},
   "source": [
    "第三种：从库中导入部分功能，毕竟很多时候，我们用不到库中所有的功能，导入需要的功能即可。它的形式是 from ...import ...。"
   ]
  },
  {
   "cell_type": "code",
   "execution_count": 5,
   "metadata": {},
   "outputs": [],
   "source": [
    "import turtle\n",
    "from turtle import Turtle\n",
    "\n",
    "pen = Turtle()\n",
    "for i in range(4):\n",
    "    pen.forward(100)\n",
    "    pen.left(90)\n",
    "    \n",
    "turtle.done()\n",
    "\n",
    "try:\n",
    "    turtle.bye()   \n",
    "except turtle.Terminator:\n",
    "    pass"
   ]
  },
  {
   "cell_type": "markdown",
   "metadata": {},
   "source": [
    "还有一种特殊情况是 from turtle import * ，表示从海龟库导入所有功能，这种方式不推荐，因为可能会导致有同名函数，给程序增加出 bug 的风险。"
   ]
  },
  {
   "cell_type": "markdown",
   "metadata": {},
   "source": [
    "## 自定义模块\n",
    "除了从 Python 库中导入函数，我们也可以把一段代码保存到一个 py 文件中，将这个文件作为一个模块，然后在其他程序中导入这个模块中的函数。比如定义一个相加的函数，并保存为 sum_module.py。"
   ]
  },
  {
   "cell_type": "code",
   "execution_count": null,
   "metadata": {},
   "outputs": [],
   "source": [
    "def sum(a, b):\n",
    "    return a + b"
   ]
  },
  {
   "cell_type": "markdown",
   "metadata": {},
   "source": [
    "在 sum_module 模块相同的文件夹下新建另一个程序，并编写如下代码，程序可以直接运行。通过这种方法可以把代码变成一个个模块，方便复用。"
   ]
  },
  {
   "cell_type": "code",
   "execution_count": null,
   "metadata": {},
   "outputs": [],
   "source": [
    "from sum_module import sum\n",
    "\n",
    "print(sum(1, 2))"
   ]
  },
  {
   "cell_type": "markdown",
   "metadata": {},
   "source": [
    "<img src='image/ch8.0.png' width=806 align=left>"
   ]
  },
  {
   "cell_type": "markdown",
   "metadata": {},
   "source": [
    "## 常见第三方库\n",
    "除了 turtle、random 这些不需要额外安装的 Python 内置库，还有很多第三方库，比如数据处理与可视化、图片处理、图形用户界面 GUI、游戏开发、机器学习。借助这些库可以快速编写出功能强大的软件。这些库在使用前需要先安装。\n",
    "\n",
    "### 制作二维码\n",
    "二维码在日常生活中非常常见，使用 QR Code 库可以将文字、网址转化成二维码，使用前，先在 cmd 环境下使用 **pip install 库名** 的形式安装库，如下图所示：\n",
    "\n",
    "<img src='image/ch8.1.png' width=667 align=left>"
   ]
  },
  {
   "cell_type": "markdown",
   "metadata": {},
   "source": [
    "用几行代码就可以制作一个二维码，用手机扫一扫这个二维码，看一下会发生什么。"
   ]
  },
  {
   "cell_type": "code",
   "execution_count": 7,
   "metadata": {
    "scrolled": false
   },
   "outputs": [],
   "source": [
    "import qrcode\n",
    "\n",
    "text = '扫我干嘛'\n",
    "qr = qrcode.make(text)  # 制作二维码\n",
    "qr.show()  # 显示二维码\n",
    "qr.save('qrcode.png')  # 保存图片到程序的同一目录下"
   ]
  },
  {
   "cell_type": "markdown",
   "metadata": {},
   "source": [
    "<img src='image/ch8.2 qrcode.png' width=200 align=left>"
   ]
  },
  {
   "cell_type": "markdown",
   "metadata": {},
   "source": [
    "将 text 的内容换成网址，就可以生成网址的二维码。如果想了解更多二维码的制作，请参考官网的[说明文档](https://pypi.org/project/qrcode/)。"
   ]
  },
  {
   "cell_type": "markdown",
   "metadata": {},
   "source": [
    "### 图像处理\n",
    "图像处理在日常生活中很常见，美颜 App 就使用了图像处理算法。使用 pillow 库可以进行简单的图像处理，如缩放、滤镜、生成图片。使用前仍然需要通过 *pip install Pillow* 进行安装。来给噬元兽添加一个轮廓滤镜：\n",
    "\n",
    "<img src='image/ch8.3 cat.jpg' width=480 align=left>\n",
    "<img src='image/ch8.4 cat_edges.jpg' width=480 align=right>"
   ]
  },
  {
   "cell_type": "code",
   "execution_count": 2,
   "metadata": {},
   "outputs": [],
   "source": [
    "from PIL import Image, ImageFilter\n",
    "\n",
    "img = Image.open('image/ch8.1 cat.jpg')  # 打开图片\n",
    "img_edge = img.filter(ImageFilter.FIND_EDGES)  # 添加轮廓滤镜  \n",
    "img_edge.show()  # 显示图片\n",
    "img_edge.save('cat_edges.jpg')  # 保存图片"
   ]
  },
  {
   "cell_type": "markdown",
   "metadata": {},
   "source": [
    "更多第三方库列举如下，这些库现在不需要掌握，只是列出来作了解。学完本教程后，可以选择自己感兴趣的方向，选择相应的库进行学习。\n",
    "\n",
    "爬虫\n",
    "\n",
    " - [Requests](http://www.python-requests.org/) \n",
    " - [BeautifulSoup](http://www.crummy.com/software/BeautifulSoup/) \n",
    " - [Scrapy](http://www.scrapy.org/)\n",
    " \n",
    "图片处理\n",
    " \n",
    " - [Pillow](https://python-pillow.org/)\n",
    " - [scikit-image](https://scikit-image.org/)\n",
    " \n",
    " \n",
    " 视频处理\n",
    " \n",
    " - [OpenCV](https://opencv.org/)\n",
    " - [SimpleCV](http://simplecv.org/)\n",
    " \n",
    " \n",
    " GUI\n",
    " \n",
    " - [PyQt](https://riverbankcomputing.com/software/pyqt/intro)\n",
    " - [GUI Zero](https://lawsie.github.io/guizero/)\n",
    " - [Tkinter](https://wiki.python.org/moin/TkInter)\n",
    " \n",
    " \n",
    " 数据处理与可视化\n",
    " \n",
    " - [Numpy](https://www.numpy.org/)\n",
    " - [Pandas](https://pandas.pydata.org/)\n",
    " - [matplotlib](https://matplotlib.org/)\n",
    " - [seaborn](http://seaborn.pydata.org/)\n",
    " - [Plotly](https://plot.ly/python/)\n",
    " \n",
    " \n",
    " 科学计算\n",
    " \n",
    " - [SciPy](http://www.scipy.org/)\n",
    " - [SymPy](https://www.sympy.org/en/index.html)\n",
    " \n",
    " \n",
    " 游戏开发\n",
    " \n",
    " - [Pygame](https://www.pygame.org/news)\n",
    " - [Pygame Zero](https://pygame-zero.readthedocs.io/en/stable/)\n",
    " - [Arcade](http://arcade.academy/)\n",
    " - [pyxel](https://github.com/kitao/pyxel)\n",
    " - [pyglet](https://bitbucket.org/pyglet/pyglet/wiki/Home)\n",
    " - [Pand3D](https://www.panda3d.org/)\n",
    " \n",
    " \n",
    " 机器学习\n",
    " \n",
    " - [scikit-learn](https://scikit-learn.org/stable/index.html)\n",
    " - [TensorFlow](https://www.tensorflow.org/)\n",
    " - [PyTorch](https://pytorch.org/)\n",
    " - [Keras](https://keras.io/)"
   ]
  },
  {
   "cell_type": "markdown",
   "metadata": {},
   "source": [
    "## 编程挑战\n",
    "1. 使用 qrcode 库制作一个一句话介绍自己的二维码。\n",
    "<br>\n",
    "<br>\n",
    "<br>\n",
    "\n",
    "\n",
    "2. 参考[链接](https://www.jianshu.com/p/35cf6e7f2119)，选取自己喜欢的一张图片添加滤镜。\n",
    "<br>\n",
    "<br>\n",
    "<br>"
   ]
  },
  {
   "cell_type": "code",
   "execution_count": 1,
   "metadata": {},
   "outputs": [
    {
     "data": {
      "text/html": [
       "<iframe frameborder=\"no\" border=\"0\" marginwidth=\"0\" marginheight=\"0\" width=330 height=86 src=\"//music.163.com/outchain/player?type=2&id=4010229&auto=0&height=66\"></iframe>"
      ],
      "text/plain": [
       "<IPython.core.display.HTML object>"
      ]
     },
     "execution_count": 1,
     "metadata": {},
     "output_type": "execute_result"
    }
   ],
   "source": [
    "from IPython.display import HTML\n",
    "\n",
    "# Music\n",
    "HTML('<iframe frameborder=\"no\" border=\"0\" marginwidth=\"0\" marginheight=\"0\" width=330 height=86 src=\"//music.163.com/outchain/player?type=2&id=4010229&auto=0&height=66\"></iframe>')"
   ]
  }
 ],
 "metadata": {
  "kernelspec": {
   "display_name": "Python 3",
   "language": "python",
   "name": "python3"
  },
  "language_info": {
   "codemirror_mode": {
    "name": "ipython",
    "version": 3
   },
   "file_extension": ".py",
   "mimetype": "text/x-python",
   "name": "python",
   "nbconvert_exporter": "python",
   "pygments_lexer": "ipython3",
   "version": "3.6.3"
  }
 },
 "nbformat": 4,
 "nbformat_minor": 2
}
