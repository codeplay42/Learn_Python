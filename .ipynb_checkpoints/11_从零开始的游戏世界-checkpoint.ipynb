{
 "cells": [
  {
   "cell_type": "markdown",
   "metadata": {},
   "source": [
    "## 关于游戏\n",
    "相信大家对游戏并不陌生，从吃鸡到王者荣耀，还有童年经典超级玛丽。游戏+快乐水快乐加倍。设计游戏，在玩游戏这个维度上还增加了另一种自由度，即把自己的想法变成现实，自己成为游戏的造物主，定义游戏世界的规则，听起来有点酷。所以后面几章将围绕游戏设计进行展开。\n",
    "\n",
    "<img src='images/ch11.1.png' width='350' align='left'>"
   ]
  },
  {
   "cell_type": "markdown",
   "metadata": {},
   "source": [
    "## 经典游戏开发库 pyxel\n",
    "实际上，Python 有多个库可以用来开发游戏，来做一下比较：\n",
    "\n",
    "- 经典的 [Pygame](https://www.pygame.org/news)，不过这个库没有维护了，文档也比较混乱，对新手实在不太友好。\n",
    "- 基于 Pygame 开发的 [Pygame Zero](https://pygame-zero.readthedocs.io/en/stable/) 库，相对 Pygame 来说，编程要简单一点，适合新手，不过功能不是很全。\n",
    "- [Arcade](http://arcade.academy/) 库，也要优于 Pygame，教程和范例很详细，适合新手学习。\n",
    "- 3D 游戏引擎 [Panda3D](https://www.panda3d.org/)，顾名思义，适合开发 3D 游戏。\n",
    "\n",
    "不过最终还是选择 [pyxel](https://github.com/kitao/pyxel) 库，因为它是为经典游戏而生的，像素风+8 bit 音乐，非常有复古感，编写程序也不复杂，还可以用自带的编辑器绘制游戏角色素材和创作游戏音乐，可以说非常全面了。不过制作素材和创作音乐有一定门槛，后面会花专门的章节讲。\n",
    "\n",
    "<img src='images/ch11.2.gif' align='left'>"
   ]
  },
  {
   "cell_type": "markdown",
   "metadata": {},
   "source": [
    "## 安装 pyxel 与第一个游戏\n",
    "开始设计游戏前，先安装 pyxel 库。很多 Python 第三方库对 Python 版本有要求。注意，安装 pyxel 前要确保 Python 版本是 3.7 以上。Windows 使用命令 pip install -U pyxel 进行安装即可，其他系统的安装请参考[这里](https://github.com/kitao/pyxel)。库安装完成以后，打开 CMD，使用 cd 命令进入适当的文件夹（如果不知道如何使用 cd 命令，可以看[这里](https://www.jianshu.com/p/3a6687df2173)），然后输入 install_pyxel_examples 安装 pyxel 库的示例程序。也可以从 pyxel 库的 [Github](https://github.com/kitao/pyxel/tree/master/pyxel/examples) 页面下载示例程序。进入示例程序文件夹，打开并运行 04_sound_api.py 程序，你会看到一个播放 8 bit 音乐的程序。按 1、2、3、4 键可以播放不同 channel 的音乐。运行试一试吧。\n",
    "\n",
    "<img src='images/ch11.3.gif' align='left'>"
   ]
  },
  {
   "cell_type": "markdown",
   "metadata": {},
   "source": [
    "在接下来的 5 章里，每章会围绕一个游戏项目展开，在做项目过程中对之前学习的内容进行巩固。这 5 章的游戏是：\n",
    "\n",
    "- 跳动吧，音符\n",
    "- 碰撞吧，弹球\n",
    "- 飞翔吧，小鸟\n",
    "- 跳跃吧，小恐龙\n",
    "- 忍者大冒险"
   ]
  },
  {
   "cell_type": "code",
   "execution_count": 2,
   "metadata": {},
   "outputs": [
    {
     "data": {
      "text/html": [
       "<iframe frameborder=\"no\" border=\"0\" marginwidth=\"0\" marginheight=\"0\" width=330 height=86 src=\"//music.163.com/outchain/player?type=2&id=22761015&auto=0&height=66\"></iframe>"
      ],
      "text/plain": [
       "<IPython.core.display.HTML object>"
      ]
     },
     "execution_count": 2,
     "metadata": {},
     "output_type": "execute_result"
    }
   ],
   "source": [
    "from IPython.display import HTML\n",
    "\n",
    "# Music\n",
    "HTML('<iframe frameborder=\"no\" border=\"0\" marginwidth=\"0\" marginheight=\"0\" width=330 height=86 src=\"//music.163.com/outchain/player?type=2&id=22761015&auto=0&height=66\"></iframe>')"
   ]
  }
 ],
 "metadata": {
  "kernelspec": {
   "display_name": "Python 3",
   "language": "python",
   "name": "python3"
  },
  "language_info": {
   "codemirror_mode": {
    "name": "ipython",
    "version": 3
   },
   "file_extension": ".py",
   "mimetype": "text/x-python",
   "name": "python",
   "nbconvert_exporter": "python",
   "pygments_lexer": "ipython3",
   "version": "3.7.5"
  }
 },
 "nbformat": 4,
 "nbformat_minor": 2
}
