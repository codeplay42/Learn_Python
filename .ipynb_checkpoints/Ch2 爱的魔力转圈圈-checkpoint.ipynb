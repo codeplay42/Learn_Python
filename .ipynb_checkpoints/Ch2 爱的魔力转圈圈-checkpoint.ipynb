{
 "cells": [
  {
   "cell_type": "markdown",
   "metadata": {},
   "source": [
    "# 海龟画图\n",
    "海龟库（Turtle）是 Python 中内置的一个绘图库，因为直观和互动性好非常适合用来学习 Python。先来看个例子："
   ]
  },
  {
   "cell_type": "code",
   "execution_count": 1,
   "metadata": {
    "scrolled": true
   },
   "outputs": [],
   "source": [
    "import turtle  \n",
    "\n",
    "tony = turtle.Turtle()  # 创建一只叫 tony 的海龟\n",
    "tony.forward(100)\n",
    "turtle.done()  # 画图结束\n",
    "'''\n",
    "解决在 Jupyter Notebook 第二次运行出错的方法，这几行代码不理解也没关系\n",
    "https://github.com/spyder-ide/spyder/wiki/How-to-run-turtle-scripts-within-Spyder\n",
    "'''\n",
    "try:\n",
    "    turtle.bye()   \n",
    "except turtle.Terminator:\n",
    "    pass"
   ]
  },
  {
   "cell_type": "markdown",
   "metadata": {},
   "source": [
    "【编程百科】\n",
    "\n",
    "上一个程序中插入了说明性的文字，这些文字也叫注释，用于解释代码的作用。给代码添加注释可以让代码更易读，有的程序包含几十万行代码，如果不添加注释，读起来会非常困难。一行注释前面要添加 # 号，便于和正常代码区分开来，如果要添加多行注释，用 ''' ''' 将注释围起来。"
   ]
  },
  {
   "cell_type": "markdown",
   "metadata": {},
   "source": [
    "程序第 1 行使用 import turtle 导入了海龟库。运行程序，你会发现画出了一条直线，forward(100) 表示前进 100 的距离。如果要画一个直角，那么需要用到旋转的指令左转 left() 或右转 right()，括号中填入旋转角度即可。"
   ]
  },
  {
   "cell_type": "code",
   "execution_count": 2,
   "metadata": {},
   "outputs": [],
   "source": [
    "import turtle\n",
    "\n",
    "tony = turtle.Turtle()\n",
    "tony.forward(100)\n",
    "tony.right(90)\n",
    "tony.forward(100)\n",
    "turtle.done()\n",
    "\n",
    "# 解决在 Jupyter Notebook 第二次运行出错的方法\n",
    "# https://github.com/spyder-ide/spyder/wiki/How-to-run-turtle-scripts-within-Spyder\n",
    "try:\n",
    "    turtle.bye()   \n",
    "except turtle.Terminator:\n",
    "    pass"
   ]
  },
  {
   "cell_type": "markdown",
   "metadata": {},
   "source": [
    "运行程序会画出一个直角，重复 4 次指令即可画出正方形："
   ]
  },
  {
   "cell_type": "code",
   "execution_count": 3,
   "metadata": {},
   "outputs": [],
   "source": [
    "import turtle\n",
    "\n",
    "tony = turtle.Turtle()\n",
    "tony.forward(100)\n",
    "tony.right(90)\n",
    "tony.forward(100)\n",
    "tony.right(90)\n",
    "tony.forward(100)\n",
    "tony.right(90)\n",
    "tony.forward(100)\n",
    "turtle.done()\n",
    "\n",
    "# 解决在 Jupyter Notebook 第二次运行出错的方法\n",
    "# https://github.com/spyder-ide/spyder/wiki/How-to-run-turtle-scripts-within-Spyder\n",
    "try:\n",
    "    turtle.bye()   \n",
    "except turtle.Terminator:\n",
    "    pass"
   ]
  },
  {
   "cell_type": "markdown",
   "metadata": {},
   "source": [
    "【试一试】\n",
    "\n",
    "试着画一个边长为 100 的等边三角形。"
   ]
  },
  {
   "cell_type": "markdown",
   "metadata": {},
   "source": [
    "从上面的程序可以看出，以下两行代码重复了 4 次，如果要画 8 边形，那么这段代码要重复 8 次，这也太不方便了。"
   ]
  },
  {
   "cell_type": "code",
   "execution_count": null,
   "metadata": {},
   "outputs": [],
   "source": [
    "tony.forward(100)\n",
    "tony.right(90)"
   ]
  },
  {
   "cell_type": "markdown",
   "metadata": {},
   "source": [
    "像这种重复执行的动作可以使用 Python 中的循环来实现，使用 for 循环画正方形的代码如下："
   ]
  },
  {
   "cell_type": "code",
   "execution_count": 10,
   "metadata": {},
   "outputs": [],
   "source": [
    "import turtle\n",
    "\n",
    "tony = turtle.Turtle()\n",
    "for i in range(4):  # 将 for 循环中的代码执行 4 次\n",
    "    tony.forward(100)\n",
    "    tony.right(90)\n",
    "\n",
    "turtle.done()\n",
    "\n",
    "# 解决在 Jupyter Notebook 第二次运行出错的方法\n",
    "# https://github.com/spyder-ide/spyder/wiki/How-to-run-turtle-scripts-within-Spyder\n",
    "try:\n",
    "    turtle.bye()   \n",
    "except turtle.Terminator:\n",
    "    pass"
   ]
  },
  {
   "cell_type": "markdown",
   "metadata": {},
   "source": [
    "# 何谓循环？\n",
    "寒暑兮往来相继，兴衰兮循环道理。\n",
    "\n",
    "                      ------《飞丸记·旅邸揣摩》\n",
    "\n",
    "正如本章的章名“爱的魔力转圈圈”，转圈圈就是一个循环的动作，即将一个动作重复多次。生活中的循环很常见，比如经常性地立 Flag、复读机和鬼畜。而在 Python 中循环也是类似的意思，即将一段代码重复执行多次，循环包括 for 循环和 while 循环。for 循环会直接指定循环的次数，而 while 循环是根据条件来终止循环。\n",
    "\n",
    "\n",
    "## for 循环\n",
    "for 循环经常和 range() 结合使用，range() 可以生产一个数列，它的一般形式是 range(start, stop, step)，其中 start、stop 和 step 分别代表数列的起始值、终止值和步长，示例如下："
   ]
  },
  {
   "cell_type": "code",
   "execution_count": 21,
   "metadata": {
    "scrolled": true
   },
   "outputs": [
    {
     "name": "stdout",
     "output_type": "stream",
     "text": [
      "1\n",
      "2\n",
      "3\n",
      "4\n",
      "5\n"
     ]
    }
   ],
   "source": [
    "for i in range(1, 6, 1):\n",
    "    print(i)"
   ]
  },
  {
   "cell_type": "markdown",
   "metadata": {},
   "source": [
    "从程序运行结果可以看出来，i 分别被赋予 1-5 的值，代码 print(i) 执行了 5 次。注意，这里生成的数列不包括终止点，所以这里生成的数列不包括 6。而且 for 循环中的代码要注意空 4 个空格。"
   ]
  },
  {
   "cell_type": "markdown",
   "metadata": {},
   "source": [
    "【编程百科】\n",
    "\n",
    "for 循环中的代码要缩进，一般规范是缩进 4 个空格。根据以下两个示例程序，比较一下缩进和不缩进的区别。"
   ]
  },
  {
   "cell_type": "code",
   "execution_count": 3,
   "metadata": {},
   "outputs": [
    {
     "name": "stdout",
     "output_type": "stream",
     "text": [
      "5\n",
      "5\n",
      "6\n"
     ]
    }
   ],
   "source": [
    "for i in range(1, 3):\n",
    "    print(5)\n",
    "print(6)"
   ]
  },
  {
   "cell_type": "code",
   "execution_count": 4,
   "metadata": {},
   "outputs": [
    {
     "name": "stdout",
     "output_type": "stream",
     "text": [
      "5\n",
      "6\n",
      "5\n",
      "6\n"
     ]
    }
   ],
   "source": [
    "for i in range(1, 3):\n",
    "    print(5)\n",
    "    print(6)"
   ]
  },
  {
   "cell_type": "markdown",
   "metadata": {},
   "source": [
    "for 循环中，步长如果省略，则默认步长为 1。"
   ]
  },
  {
   "cell_type": "code",
   "execution_count": 23,
   "metadata": {
    "scrolled": true
   },
   "outputs": [
    {
     "name": "stdout",
     "output_type": "stream",
     "text": [
      "0\n",
      "1\n",
      "2\n",
      "3\n",
      "4\n",
      "5\n"
     ]
    }
   ],
   "source": [
    "for i in range(6):\n",
    "    print(i)"
   ]
  },
  {
   "cell_type": "markdown",
   "metadata": {},
   "source": [
    "如果起始点也省略，那么默认起始点为 0。\n",
    "\n",
    "<img src='image/ch2.0.png' width=430 align=left>"
   ]
  },
  {
   "cell_type": "markdown",
   "metadata": {},
   "source": [
    "提示：步长可以为负数。\n",
    "\n",
    "要控制 for 循环的循环次数，可以通过设置 range() 的参数（start、stop、step）来实现。结合海龟画图，来试一下画正多边形，先从三角形开始："
   ]
  },
  {
   "cell_type": "code",
   "execution_count": 6,
   "metadata": {},
   "outputs": [],
   "source": [
    "import turtle\n",
    "\n",
    "tony = turtle.Turtle()\n",
    "for i in range(3):\n",
    "    tony.forward(100)\n",
    "    tony.right(120)\n",
    "\n",
    "turtle.done()\n",
    "\n",
    "# 解决在 Jupyter Notebook 第二次运行出错的方法\n",
    "# https://github.com/spyder-ide/spyder/wiki/How-to-run-turtle-scripts-within-Spyder\n",
    "try:\n",
    "    turtle.bye()   \n",
    "except turtle.Terminator:\n",
    "    pass"
   ]
  },
  {
   "cell_type": "markdown",
   "metadata": {},
   "source": [
    "正方形已经画过，那么画五边形吧。"
   ]
  },
  {
   "cell_type": "code",
   "execution_count": 33,
   "metadata": {},
   "outputs": [],
   "source": [
    "import turtle\n",
    "\n",
    "tony = turtle.Turtle()\n",
    "for i in range(5):\n",
    "    tony.forward(100)\n",
    "    tony.right(72)\n",
    "\n",
    "turtle.done()\n",
    "\n",
    "# 解决在 Jupyter Notebook 第二次运行出错的方法\n",
    "# https://github.com/spyder-ide/spyder/wiki/How-to-run-turtle-scripts-within-Spyder\n",
    "try:\n",
    "    turtle.bye()   \n",
    "except turtle.Terminator:\n",
    "    pass"
   ]
  },
  {
   "cell_type": "markdown",
   "metadata": {},
   "source": [
    "从这里是不是可以发现，循环次数和旋转角度存在一定关系，即循环次数 x 旋转角度 = 360，想一想，这是为什么？\n",
    "\n",
    "## 变量\n",
    "\n",
    "还有一个问题：如果画一个正 N 边形，一般的程序应该怎么写？这里就要引入变量的概念了。变量即“变化的量”，可以把变量理解为一个盒子，盒子里面可以存放东西（数据），变量里面存放的数据是可以变化的。给变量赋值用等号 = 来实现，如 a = 5 代表把整数 5 赋值给 a。"
   ]
  },
  {
   "cell_type": "code",
   "execution_count": 34,
   "metadata": {},
   "outputs": [
    {
     "name": "stdout",
     "output_type": "stream",
     "text": [
      "3\n",
      "6\n"
     ]
    }
   ],
   "source": [
    "a = 3\n",
    "print(a)  \n",
    "a = 6\n",
    "print(a)"
   ]
  },
  {
   "cell_type": "markdown",
   "metadata": {},
   "source": [
    "这个示例说明变量的值可以发生变化，不过变量命名有一定原则，变量通常由字母、下划线“\\_”和数字组成，但不能以数字开头。a3、\\_a2、go\\_to 都是正确的命名方式。继续之前画正 N 边形的程序。"
   ]
  },
  {
   "cell_type": "code",
   "execution_count": 36,
   "metadata": {},
   "outputs": [],
   "source": [
    "import turtle\n",
    "\n",
    "tony = turtle.Turtle()\n",
    "n = 6\n",
    "for i in range(n):\n",
    "    tony.forward(50)\n",
    "    tony.right(360 / n)\n",
    "\n",
    "turtle.done()\n",
    "\n",
    "# 解决在 Jupyter Notebook 第二次运行出错的方法\n",
    "# https://github.com/spyder-ide/spyder/wiki/How-to-run-turtle-scripts-within-Spyder\n",
    "try:\n",
    "    turtle.bye()   \n",
    "except turtle.Terminator:\n",
    "    pass"
   ]
  },
  {
   "cell_type": "markdown",
   "metadata": {},
   "source": [
    "这里 n 越大，画出来的正多边形越接近圆，这也是通过割圆术来计算圆周率的思路。试一试将 n 设为 10，看画出来的图形是什么样子。"
   ]
  },
  {
   "cell_type": "markdown",
   "metadata": {},
   "source": [
    "# 编程挑战\n",
    "1. 修改画正 N 边形中每次旋转的角度，比如修改画正方形的程序：每次旋转 80 度，重复 9 次，看画出来的图形是什么。\n",
    "<br>\n",
    "<br>\n",
    "<br>\n",
    "2. 猜一猜以下程序画出来的图形是什么？"
   ]
  },
  {
   "cell_type": "code",
   "execution_count": 8,
   "metadata": {},
   "outputs": [],
   "source": [
    "import turtle\n",
    "\n",
    "tony = turtle.Turtle()\n",
    "n = 360\n",
    "for i in range(n):\n",
    "    tony.forward(1)\n",
    "    tony.right(1)\n",
    "\n",
    "turtle.done()\n",
    "\n",
    "# 解决在 Jupyter Notebook 第二次运行出错的方法\n",
    "# https://github.com/spyder-ide/spyder/wiki/How-to-run-turtle-scripts-within-Spyder\n",
    "try:\n",
    "    turtle.bye()   \n",
    "except turtle.Terminator:\n",
    "    pass"
   ]
  },
  {
   "cell_type": "markdown",
   "metadata": {},
   "source": [
    "3. 编写程序画出以下图形。\n",
    "\n",
    "<img src='image/ch2.1.png' width=228 align=left>"
   ]
  },
  {
   "cell_type": "code",
   "execution_count": 1,
   "metadata": {},
   "outputs": [
    {
     "data": {
      "text/html": [
       "<iframe frameborder=\"no\" border=\"0\" marginwidth=\"0\" marginheight=\"0\" width=330 height=86 src=\"//music.163.com/outchain/player?type=2&id=524424358&auto=0&height=66\"></iframe>"
      ],
      "text/plain": [
       "<IPython.core.display.HTML object>"
      ]
     },
     "execution_count": 1,
     "metadata": {},
     "output_type": "execute_result"
    }
   ],
   "source": [
    "from IPython.display import HTML\n",
    "\n",
    "# Music\n",
    "HTML('<iframe frameborder=\"no\" border=\"0\" marginwidth=\"0\" marginheight=\"0\" width=330 height=86 src=\"//music.163.com/outchain/player?type=2&id=524424358&auto=0&height=66\"></iframe>')\n"
   ]
  }
 ],
 "metadata": {
  "kernelspec": {
   "display_name": "Python 3",
   "language": "python",
   "name": "python3"
  },
  "language_info": {
   "codemirror_mode": {
    "name": "ipython",
    "version": 3
   },
   "file_extension": ".py",
   "mimetype": "text/x-python",
   "name": "python",
   "nbconvert_exporter": "python",
   "pygments_lexer": "ipython3",
   "version": "3.6.3"
  }
 },
 "nbformat": 4,
 "nbformat_minor": 2
}
