{
 "cells": [
  {
   "cell_type": "markdown",
   "metadata": {},
   "source": [
    "## 课程小结\n",
    "\n",
    "已经走到这里的同学，恭喜你学完了这个教程，希望这个教程能让你对 Python 编程有初步的了解，如果能激发你学习编程的兴趣，那就是意外的收获了。Python 编程入门学习告一段落，来总结一下你的学习收获吧。\n",
    "\n",
    "1. 我学到了哪些知识和技能？\n",
    "<br>\n",
    "<br>\n",
    "\n",
    "2. 要达到最初设定的学习目标，我应该继续学习什么知识？\n",
    "<br>\n",
    "<br>\n",
    "\n",
    "3. 学习过程中，我的收获是什么？想改进的地方是什么？\n",
    "<br>\n",
    "<br>"
   ]
  },
  {
   "cell_type": "markdown",
   "metadata": {},
   "source": [
    "## 接下来学什么？\n",
    "Python 入门后，新的世界展开了，你可以用 Python 做数据分析，开发图形界面，编写人工智能程序，当然最重要的是通过编程帮你解决问题。选择一个自己感兴趣的方向继续学习吧。放一个海龟写字的程序，作为结言：Stay Hungry，Stay Cool！"
   ]
  },
  {
   "cell_type": "code",
   "execution_count": 4,
   "metadata": {},
   "outputs": [],
   "source": [
    "import turtle\n",
    "\n",
    "tony = turtle.Turtle()\n",
    "tony.up()\n",
    "tony.goto(-150, 0)\n",
    "tony.down()\n",
    "tony.write('Stay Hungry，Stay Cool！', font=(\"Arial\", 22, \"normal\"))\n",
    "tony.hideturtle()\n",
    "turtle.done()\n",
    "\n",
    "try:\n",
    "    turtle.bye()   \n",
    "except turtle.Terminator:\n",
    "    pass"
   ]
  },
  {
   "cell_type": "markdown",
   "metadata": {},
   "source": [
    "<img src='image/ch17.1.png' width=400>"
   ]
  },
  {
   "cell_type": "code",
   "execution_count": 2,
   "metadata": {},
   "outputs": [
    {
     "data": {
      "text/html": [
       "<iframe frameborder=\"no\" border=\"0\" marginwidth=\"0\" marginheight=\"0\" width=330 height=86 src=\"//music.163.com/outchain/player?type=2&id=539534094&auto=0&height=66\"></iframe>"
      ],
      "text/plain": [
       "<IPython.core.display.HTML object>"
      ]
     },
     "execution_count": 2,
     "metadata": {},
     "output_type": "execute_result"
    }
   ],
   "source": [
    "from IPython.display import HTML\n",
    "\n",
    "HTML('<iframe frameborder=\"no\" border=\"0\" marginwidth=\"0\" marginheight=\"0\" width=330 height=86 src=\"//music.163.com/outchain/player?type=2&id=539534094&auto=0&height=66\"></iframe>')"
   ]
  }
 ],
 "metadata": {
  "kernelspec": {
   "display_name": "Python 3",
   "language": "python",
   "name": "python3"
  },
  "language_info": {
   "codemirror_mode": {
    "name": "ipython",
    "version": 3
   },
   "file_extension": ".py",
   "mimetype": "text/x-python",
   "name": "python",
   "nbconvert_exporter": "python",
   "pygments_lexer": "ipython3",
   "version": "3.6.3"
  }
 },
 "nbformat": 4,
 "nbformat_minor": 2
}
