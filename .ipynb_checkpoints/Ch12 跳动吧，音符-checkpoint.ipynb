{
 "cells": [
  {
   "cell_type": "markdown",
   "metadata": {},
   "source": [
    "## 最简单的游戏界面\n",
    "使用 pyxel 开发的一个最简单的游戏界面是什么样的？先运行代码看一下："
   ]
  },
  {
   "cell_type": "code",
   "execution_count": null,
   "metadata": {},
   "outputs": [],
   "source": [
    "import pyxel\n",
    "\n",
    "\n",
    "class App:\n",
    "    def __init__(self):\n",
    "        pyxel.init(160, 120, caption=\"Hello Pyxel\")  # 设置游戏窗口尺寸和游戏名\n",
    "        pyxel.run(self.update, self.draw)  # 运行 update() 和 draw() 方法\n",
    "\n",
    "    def update(self):\n",
    "        if pyxel.btnp(pyxel.KEY_Q):  # 按 Q 键退出游戏\n",
    "            pyxel.quit()\n",
    "\n",
    "    def draw(self):\n",
    "        pyxel.text(55, 41, \"Hello, Pyxel!\", 2)  # 显示文字 Hello，Pyxel\n",
    "\n",
    "\n",
    "App()"
   ]
  },
  {
   "cell_type": "markdown",
   "metadata": {},
   "source": [
    "以上程序是根据 pyxel 库中的[示例程序](https://github.com/kitao/pyxel/blob/master/pyxel/examples/01_hello_pyxel.py)修改而来的。程序运行后，会弹出一个游戏窗口。从程序中可以看出 App 对象包含的 3 个基本方法：初始化方法 \\_\\_init__()、更新方法 update()、绘图方法 draw()。编写游戏程序时，将相应的代码填入相应的方法即可。\n",
    "\n",
    "<img src='image/ch12.1.png' width=400 align=left>"
   ]
  },
  {
   "cell_type": "markdown",
   "metadata": {},
   "source": [
    "## 一个简单的音乐游戏\n",
    "先从一个简单的音乐游戏开始，游戏界面如下：\n",
    "\n",
    "<img src='image/ch12.2.png' width=400 align=left>"
   ]
  },
  {
   "cell_type": "markdown",
   "metadata": {},
   "source": [
    "设置游戏的功能如下：\n",
    "\n",
    "- 使用按键 1 播放音乐，\n",
    "- 使用按键 2 停止音乐。\n",
    "\n",
    "根据游戏功能，在类方法中添加相应的代码：\n",
    "\n",
    "- 在 \\_\\_init__() 中编好音乐（Pyxel 可以编写音乐，添加特殊的音效）；\n",
    "- 在 update() 中检测按键 1、2 是否被按下，如果按下按键，则启动相应功能（播放或停止音乐）；\n",
    "- 在 draw() 中显示文字。\n",
    "\n",
    "写出程序的基本结构，代码基本上就完成 20% 了。先把程序基本结构写出来，建立大的框架，程序中用 pass 占位，代码后续补充。如果定义了一个函数而不添加任何代码，则程序运行会报错（把 pass 去掉再运行代码试一下就知道了）。"
   ]
  },
  {
   "cell_type": "code",
   "execution_count": null,
   "metadata": {},
   "outputs": [],
   "source": [
    "import pyxel\n",
    "\n",
    "\n",
    "class App:\n",
    "    def __init__(self):\n",
    "        pyxel.init(160, 120, caption=\"Sound Play\")  \n",
    "        pyxel.run(self.update, self.draw)  \n",
    "\n",
    "    def update(self):\n",
    "        pass\n",
    "\n",
    "    def draw(self):\n",
    "        pass\n",
    "\n",
    "\n",
    "App()"
   ]
  },
  {
   "cell_type": "markdown",
   "metadata": {},
   "source": [
    "先编写音乐的代码，在 pyxel 中，可以直接用字符串代表音调。音乐相关的函数如下：\n",
    "\n",
    "- pyxel.sound(snd).set(note, tone, volume, effect, speed)：snd 代表声音的序号，范围是 0-63。set() 包含的是声音的具体参数：\n",
    "\n",
    "    - note：音符，用 cdefgab 表示，字母后面接 0-5 表示音高，如 c2 表示正常的 do，r 表示停顿\n",
    "    - tone：音色，包含 4 种。t（triangle）、s（square）、p（pulse）、n（noise）\n",
    "    - volume：音量，范围是 0-7\n",
    "    - effect：效果，也包含 4 种，n（none）、s（slide）、v（vibrato）、f（fadeout）\n",
    "    - speed：一个音符的时间长度，120 代表每秒播放一个音符\n",
    "    \n",
    "- pyxel.play(ch, snd, loop=False)：播放频道 ch 的声音 snd，默认不循环。\n",
    "- pyxel.stop()：停止播放音乐"
   ]
  },
  {
   "cell_type": "markdown",
   "metadata": {},
   "source": [
    "以“两只老虎”为例，根据简谱编写出对应的音乐。注意，简谱中的 1-7 分别对应 cdefgab。\n",
    "\n",
    "<img src='image/ch12.3.jpg' width=400 align=left>"
   ]
  },
  {
   "cell_type": "code",
   "execution_count": null,
   "metadata": {},
   "outputs": [],
   "source": [
    "pyxel.sound(0).set(\n",
    "    'c2c2d2d2e2e2c2c2 c2c2d2d2e2e2c2c2 e2e2f2f2g2g2rr e2e2f2f2g2g2rr'\n",
    "    'g2a2g2f2e2e2c2c2 g2a2g2f2e2e2c2c2 d2d2g1g1c2c2rr d2d2g1g1c2c2rr',\n",
    "    'p',\n",
    "    '6',\n",
    "    'n',\n",
    "    30\n",
    "    )"
   ]
  },
  {
   "cell_type": "markdown",
   "metadata": {},
   "source": [
    "这一段代码中设置了 pulse 音色，不添加效果。接下来，添加 draw() 和 update() 的代码，完整代码如下："
   ]
  },
  {
   "cell_type": "code",
   "execution_count": null,
   "metadata": {},
   "outputs": [],
   "source": [
    "import pyxel\n",
    "\n",
    "class App:\n",
    "    def __init__(self):\n",
    "        pyxel.init(200, 150, caption='Sound Play')\n",
    "        pyxel.sound(0).set(\n",
    "            'c2c2d2d2e2e2c2c2 c2c2d2d2e2e2c2c2 e2e2f2f2g2g2rr e2e2f2f2g2g2rr'\n",
    "            'g2a2g2f2e2e2c2c2 g2a2g2f2e2e2c2c2 d2d2g1g1c2c2rr d2d2g1g1c2c2rr',\n",
    "            'p',\n",
    "            '6',\n",
    "            'n',\n",
    "            30\n",
    "            )\n",
    "        pyxel.run(self.update, self.draw)\n",
    "\n",
    "    def draw(self):\n",
    "        pyxel.text(80, 50, 'Sound Play', 2)  # 显示文字\n",
    "        pyxel.text(75, 65, '1: play music', 3)\n",
    "        pyxel.text(75, 75, '2: stop music', 3)\n",
    "\n",
    "    def update(self):\n",
    "        if pyxel.btnp(pyxel.KEY_1):  # 按1键播放音乐\n",
    "            pyxel.play(0, 0, loop=True)\n",
    "        elif pyxel.btnp(pyxel.KEY_2):\n",
    "            pyxel.stop()\n",
    "\n",
    "App()"
   ]
  },
  {
   "cell_type": "markdown",
   "metadata": {},
   "source": [
    "以上代码使用了 pyxel.text() 和 pyxel.btnp() 函数，它们的含义如下：\n",
    "\n",
    "- pyxel.text(x, y, s, col)：在位置（x，y）显示文字 s，颜色为 col。\n",
    "- pyxel.btnp(key)：按键 key 被按下，返回 True，否则返回 False。key 一般用 pyxel.KEY_X 的形式表示，X 代表按键值，如 Q 键用 Q，空格键用 SPACE。\n",
    "\n",
    "还有，pyxel 里面只能显示 16 种颜色，用数字 0-15 表示，颜色与数字的对应关系如下：\n",
    "\n",
    "<img src='image/ch12.4.png' width=400 align=left>"
   ]
  },
  {
   "cell_type": "markdown",
   "metadata": {},
   "source": [
    "运行程序，看一下效果怎么样，再修改 tone 和 effect 的参数。比如 effect 改成 vf，再运行程序，体验不同参数带来效果。"
   ]
  },
  {
   "cell_type": "markdown",
   "metadata": {},
   "source": [
    "## 自制音效\n",
    "pyxel 库还自带图像和音乐编辑器，可以方便地 DIY 角色和音效。Windows 系统使用 cd 命令进入目标文件夹，然后输入 pyxeleditor file_name 即可新建一个素材文件。用同样的方式也可以打开已经创建的素材文件。\n",
    "\n",
    "<img src='image/ch12.5.png' width=600 align=left>"
   ]
  },
  {
   "cell_type": "markdown",
   "metadata": {},
   "source": [
    "点击编辑器界面左上角的正弦符号进入声音编辑界面，左侧是一个钢琴键盘，在相应位置点击即可生成音符。编辑器下方可以添加音色、音量和效果，在相应位置输入相应内容即可。右上角有播放按钮，也可以设置播放速度 speed。添加图中的音符，点击播放，看一下制作的音效是什么。\n",
    "\n",
    "<img src='image/ch12.6.png' width=400 align=left>"
   ]
  },
  {
   "cell_type": "markdown",
   "metadata": {},
   "source": [
    "如果想新建多个音效，点击 SOUND 旁边的加号即可进入另一个声道，如之前一样制作声音。通过这个音效编辑器可以很方便地制作音效。\n",
    "\n",
    "<img src='image/ch12.7.png' width=400 align=left>"
   ]
  },
  {
   "cell_type": "markdown",
   "metadata": {},
   "source": [
    "## 在程序中使用音效\n",
    "在音效编辑器中制作好音效后，可以在程序中使用。首先要在程序中导入音效文件，然后就可以用 pyxel.play(ch, snd) 播放音效，ch 代表声道，snd 代表声音编号，示例如下："
   ]
  },
  {
   "cell_type": "code",
   "execution_count": null,
   "metadata": {},
   "outputs": [],
   "source": [
    "import pyxel\n",
    "\n",
    "class App:\n",
    "    def __init__(self):\n",
    "        pyxel.init(200, 150, caption='Sound Play')\n",
    "        pyxel.load('make_sound.pyxres')  # 导入声音文件\n",
    "        pyxel.run(self.update, self.draw)\n",
    "\n",
    "    def draw(self):\n",
    "        pyxel.text(45, 60, 'Press A or D to play sound', 2)  \n",
    "\n",
    "    def update(self):\n",
    "        if pyxel.btnp(pyxel.KEY_A):  # 按 A 键播放音乐\n",
    "            pyxel.play(ch=0, snd=0)\n",
    "        elif pyxel.btnp(pyxel.KEY_D):\n",
    "            pyxel.play(ch=0, snd=1)\n",
    "\n",
    "App()"
   ]
  },
  {
   "cell_type": "markdown",
   "metadata": {},
   "source": [
    "导入声音素材文件时，如果素材文件和程序文件不是在同一个文件夹，则应该添加声音文件的文件路径，文件路径中的斜杠建议使用 / 而非 \\，示例如下："
   ]
  },
  {
   "cell_type": "code",
   "execution_count": null,
   "metadata": {},
   "outputs": [],
   "source": [
    "pyxel.load('C:/Users/haha/Desktop/make_sound.pyxres')"
   ]
  },
  {
   "cell_type": "markdown",
   "metadata": {},
   "source": [
    "注意，第 12-16 章的游戏素材和代码可以在 <font color=red>Ch12-16 Game Codes</font> 文件夹找到。"
   ]
  },
  {
   "cell_type": "markdown",
   "metadata": {},
   "source": [
    "# 编程挑战\n",
    "1. 找一段简单的音乐，如小星星，制作一首歌。\n",
    "<br>\n",
    "<br>\n",
    "<br>\n",
    "\n",
    "\n",
    "2. 使用音效编辑器任意编写一段音乐，添加音效。\n",
    "<br>\n",
    "<br>\n",
    "<br>"
   ]
  },
  {
   "cell_type": "code",
   "execution_count": 1,
   "metadata": {},
   "outputs": [
    {
     "data": {
      "text/html": [
       "<iframe frameborder=\"no\" border=\"0\" marginwidth=\"0\" marginheight=\"0\" width=330 height=86 src=\"//music.163.com/outchain/player?type=2&id=150408&auto=0&height=66\"></iframe>"
      ],
      "text/plain": [
       "<IPython.core.display.HTML object>"
      ]
     },
     "execution_count": 1,
     "metadata": {},
     "output_type": "execute_result"
    }
   ],
   "source": [
    "from IPython.display import HTML\n",
    "\n",
    "HTML('<iframe frameborder=\"no\" border=\"0\" marginwidth=\"0\" marginheight=\"0\" width=330 height=86 src=\"//music.163.com/outchain/player?type=2&id=150408&auto=0&height=66\"></iframe>')"
   ]
  }
 ],
 "metadata": {
  "kernelspec": {
   "display_name": "Python 3",
   "language": "python",
   "name": "python3"
  },
  "language_info": {
   "codemirror_mode": {
    "name": "ipython",
    "version": 3
   },
   "file_extension": ".py",
   "mimetype": "text/x-python",
   "name": "python",
   "nbconvert_exporter": "python",
   "pygments_lexer": "ipython3",
   "version": "3.7.5"
  }
 },
 "nbformat": 4,
 "nbformat_minor": 2
}
