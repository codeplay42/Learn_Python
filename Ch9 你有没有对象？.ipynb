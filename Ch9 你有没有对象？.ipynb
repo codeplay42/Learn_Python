{
 "cells": [
  {
   "cell_type": "markdown",
   "metadata": {},
   "source": [
    "## 生活中的对象\n",
    "Python 中万物皆对象，你有没有听说过这句话？对于初学者来说，这句话真是听得云里雾里。对象到底是个啥？今天来揭开它神秘的面纱。\n",
    "\n",
    "对象的英文是 object，其实代表的是物体。现实生活中的物体，比如猫主子，怎么来描述它呢？品种、毛色、性格，这些是它的属性。能够对它进行什么操作呢？当然是撸它。所以现实中的物体可以从两个方面进行描述：\n",
    "\n",
    "- 属性：它的特点\n",
    "- 动作：能够对它做什么或它能做什么\n",
    "\n",
    "<img src='image/ch9.0.png' width=368 align=left>"
   ]
  },
  {
   "cell_type": "markdown",
   "metadata": {},
   "source": [
    "## Python 中的对象\n",
    "Python 中的对象也可以用属性（attribute）和动作（method）两个方面来描述。即 对象=属性+方法，属性可以用数据来描述，方法可以用函数来描述，对象即数据和函数的集合体。如何创建对象呢？分为两个步骤：\n",
    "1. 创建一个类（class）\n",
    "2. 使用类创建一个对象，或者叫实例（instance）\n",
    "\n",
    "类描述的是一个事物的整体特征，包含属性和方法。如猫的颜色、品种、即属于固体又属于液体，猫会进行的动作：meow，钻箱子。\n",
    "\n",
    "<img src='image/ch9.1.jpg' width=300 align=left>"
   ]
  },
  {
   "cell_type": "markdown",
   "metadata": {},
   "source": [
    "创建类用关键字 class 实现，来看一个示例："
   ]
  },
  {
   "cell_type": "code",
   "execution_count": 1,
   "metadata": {
    "scrolled": true
   },
   "outputs": [
    {
     "name": "stdout",
     "output_type": "stream",
     "text": [
      "橘色\n",
      "喵喵喵\n"
     ]
    }
   ],
   "source": [
    "class Cat:  # 类名一般以大写字母开头\n",
    "    def __init__(self, color, breed):  \n",
    "        # 创建属性\n",
    "        self.color = color\n",
    "        self.breed = breed  # 品种\n",
    "    \n",
    "    # 创建方法   \n",
    "    def meow(self):  \n",
    "        print('喵喵喵')\n",
    "        \n",
    "dahua = Cat('橘色', '狸花猫')  # 创建实例，传递属性参数\n",
    "print(dahua.color)  # 查看实例属性\n",
    "dahua.meow()  # 调用实例方法"
   ]
  },
  {
   "cell_type": "markdown",
   "metadata": {},
   "source": [
    "定义类时使用了初始化类的方法 **\\__init__()** 来设置属性，当创建一个新的实例时，**\\__init__()** 方法就会运行，接下来定义了一个方法 meow()，这样一个类就创建好了。使用 **类名()** 的形式就可以创建一个实例。dahua 会拥有 Cat 这个类的属性和方法。所以后面代码中，可以查看 dahua 的颜色属性和调用 meow() 方法。注意，这里使用了 实例.属性 或 实例.方法 的格式，类名以大写字母开头，这是 Python 约定俗成的规定。\n",
    "\n",
    "不过这个程序中的 self 代表什么意思呢？其实，从一个类可以创建多个实例，比如 ahuan = Cat('黑色', '狸花猫')，现在 ahuan 也可以调用 meow() 方法。self 参数可以告诉方法哪个对象调用它。self 称为实例引用（instance reference）。不过在调用方法时，dahua.meow() 括号中并没有参数，而方法 meow(self) 中却有 self 参数。其实，调用方法时，究竟是哪个实例调用了这个方法？这个信息会自动传递给方法。\n",
    "\n",
    "<img src='image/ch9.2.png' width=400 align=left>"
   ]
  },
  {
   "cell_type": "markdown",
   "metadata": {},
   "source": [
    "## 继承和多态\n",
    "“龙生龙，凤生凤，老鼠的儿子会打洞”。继承在现实世界中很常见，后代会继承前代的特征。当然还有一句话：“一猪生九子，连母十个样”，即共性中又有特性。在 Python 中，不同的类也可以继承，形成类似家族的概念。从其他类继承属性或方法的类称为子类（subclass），被继承的类称为父类。子类也可以有自己的属性和方法，即共性之中的特性。举个例子，定义一个猫科动物类 Falidae 以及子类 Cat："
   ]
  },
  {
   "cell_type": "code",
   "execution_count": 2,
   "metadata": {},
   "outputs": [
    {
     "name": "stdout",
     "output_type": "stream",
     "text": [
      "cat\n",
      "meow jump\n",
      "meow\n"
     ]
    }
   ],
   "source": [
    "class Falidae:\n",
    "    def __init__(self, name):\n",
    "        self.name = name\n",
    "        \n",
    "    def jump(self):\n",
    "        print(\"I can jump\")\n",
    "        \n",
    "class Cat(Falidae):  # 子类要在括号中写上父类的类名\n",
    "    def __init__(self, color):\n",
    "        Falidae.__init__(self, 'cat')  # 在初始化方法中，继承父类的初始化方法\n",
    "        self.color = color  # 添加新属性 color\n",
    "\n",
    "    def jump(self):\n",
    "        print(\"meow jump\")\n",
    "        \n",
    "    # 补充新的方法\n",
    "    def meow(self):  \n",
    "        print('meow')\n",
    "        \n",
    "dahua = Cat('橘色')\n",
    "print(dahua.name)\n",
    "dahua.jump()\n",
    "dahua.meow()"
   ]
  },
  {
   "cell_type": "markdown",
   "metadata": {},
   "source": [
    "从程序运行结果来看，子类 Cat 继承了父类 Falidae 的属性和方法，并且可以拥有自己的属性和方法。通过这种方式，就不用编写重复的代码了。多态是指同一个方法，父类和子类可以有不同的行为。程序中子类 Cat 重现定义了方法 jump()，Cat 的实例 dahua 调用 jump() 方法时，会自动使用 Cat 的 jump() 方法。"
   ]
  },
  {
   "cell_type": "markdown",
   "metadata": {},
   "source": [
    "## 编程挑战\n",
    "1. 创建一个 Polygon 类，属性包括：\n",
    " - 正多边形的边数\n",
    " - 正多边形的边长\n",
    " - 起始位置 x，y\n",
    "\n",
    "方法是画正多边形。\n",
    "<br>\n",
    "<br>\n",
    "<br>\n",
    "\n",
    "2. 创建一个 Square 类，它继承 Polygon 类，并且拥有新属性——边的颜色，以及新方法——画旋转 45 度的正方形。\n",
    "\n",
    "<img src='image/ch9.3.png' width=200 align=left>"
   ]
  },
  {
   "cell_type": "code",
   "execution_count": 1,
   "metadata": {},
   "outputs": [
    {
     "data": {
      "text/html": [
       "<iframe frameborder=\"no\" border=\"0\" marginwidth=\"0\" marginheight=\"0\" width=330 height=86 src=\"//music.163.com/outchain/player?type=2&id=1301227380&auto=0&height=66\"></iframe>"
      ],
      "text/plain": [
       "<IPython.core.display.HTML object>"
      ]
     },
     "execution_count": 1,
     "metadata": {},
     "output_type": "execute_result"
    }
   ],
   "source": [
    "from IPython.display import HTML\n",
    "\n",
    "# Music\n",
    "HTML('<iframe frameborder=\"no\" border=\"0\" marginwidth=\"0\" marginheight=\"0\" width=330 height=86 src=\"//music.163.com/outchain/player?type=2&id=1301227380&auto=0&height=66\"></iframe>')"
   ]
  }
 ],
 "metadata": {
  "kernelspec": {
   "display_name": "Python 3",
   "language": "python",
   "name": "python3"
  },
  "language_info": {
   "codemirror_mode": {
    "name": "ipython",
    "version": 3
   },
   "file_extension": ".py",
   "mimetype": "text/x-python",
   "name": "python",
   "nbconvert_exporter": "python",
   "pygments_lexer": "ipython3",
   "version": "3.6.3"
  }
 },
 "nbformat": 4,
 "nbformat_minor": 2
}
