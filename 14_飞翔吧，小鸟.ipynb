{
 "cells": [
  {
   "cell_type": "markdown",
   "metadata": {},
   "source": [
    "## Flappy Bird 介绍\n",
    "\n",
    "Flappy Bird 是一款控制小鸟飞跃管道的游戏。它的玩法很简单，游戏过程中，小鸟会自动下落，点击手机屏幕可以让小鸟飞起，通过控制小鸟的高度来穿过一个个管道。虽然操作简单，但小鸟非常容易碰到管道，通关非常有难度。Flappy Bird 在 2014 年风靡世界，下载量超过 5000 万次。点击[链接](http://flappybird.io/)来体验网页版的 Flappy Bird 吧，试过之后就能体验到被虐的快感。不过网友的智慧是无穷的，手残玩不过，有制作机械臂+摄像头这种[物理外挂](https://www.bilibili.com/video/av988620)的，也有使用[神经网络](https://www.bilibili.com/video/av13940007)训练小鸟通关的。\n",
    "\n",
    "<img src='images/ch14.1.png' width='400' align='center'>"
   ]
  },
  {
   "cell_type": "markdown",
   "metadata": {},
   "source": [
    "## 制作 Flappy Bird \n",
    "\n",
    "ok，回到正题，接下来用 Python 来制作这个游戏。从前面的游戏描述和你自己的体验可以了解到游戏中两个角色的运行机制：\n",
    "\n",
    "- 小鸟：会自动下落，电脑版可以用按键控制小鸟飞跃；\n",
    "- 管道：从右向左移动，管道高度会发生变化。\n",
    "\n",
    "### 1. 游戏基本框架\n",
    "\n",
    "先写出游戏的基本框架："
   ]
  },
  {
   "cell_type": "code",
   "execution_count": null,
   "metadata": {},
   "outputs": [],
   "source": [
    "import pyxel\n",
    "\n",
    "\n",
    "class App:\n",
    "    def __init__(self):\n",
    "        pyxel.init(120, 180, caption='Flappy Bird')\n",
    "        self.game_state = 'start'  # 定义游戏状态        \n",
    "        pyxel.run(self.update, self.draw)\n",
    "\n",
    "    def update(self):\n",
    "        if self.game_state == 'start':\n",
    "            # 按空格键切换游戏状态\n",
    "            if pyxel.btnp(pyxel.KEY_SPACE):  \n",
    "                self.game_state = 'playing'\n",
    "        elif self.game_state == 'playing':\n",
    "            pass\n",
    "\n",
    "    def draw(self):\n",
    "        if self.game_state == 'start':\n",
    "            pyxel.cls(12)  # 设置背景颜色为蓝色\n",
    "            pyxel.text(36, 50, 'Flappy Bird', 8)\n",
    "            pyxel.text(20, 60, 'Press Space to Play!', 1)\n",
    "        elif self.game_state == 'playing':\n",
    "            pass\n",
    "\n",
    "App()"
   ]
  },
  {
   "cell_type": "markdown",
   "metadata": {},
   "source": [
    "### 2. 飞翔的小鸟\n",
    "接下来绘制角色，游戏里面的角色形象比较复杂，用 pyxel 自带的绘图函数很难绘制出这种形状不规则的角色。这时候，pyxel editor 就派上用场了。使用 cd 命令进入游戏文件夹，输入 pyxeleditor flappy_bird 来新建一个文件。选择绘图工具和颜色，然后点击绘图区域，通过一个个颜色方块的拼接来绘制像素风格的图像。\n",
    "\n",
    "<img src='images/ch14.2.png' width='400' align='left'>"
   ]
  },
  {
   "cell_type": "markdown",
   "metadata": {},
   "source": [
    "为了简化游戏制作过程，本章的游戏素材已经画好了。第 12-16 章的游戏素材和代码可以在 [12-16 Game Codes](https://github.com/codeplay42/Learn_Python/tree/master/12-16%20Game%20Codes) 文件夹找到，只需下载游戏素材，然后在程序中导入即可。\n",
    "\n",
    "<img src='images/ch14.3.5.png' width='820' align='left'>"
   ]
  },
  {
   "cell_type": "markdown",
   "metadata": {},
   "source": [
    ">**［小提示］**<br><br>\n",
    "可以进入[项目主页](https://github.com/codeplay42/Learn_Python)按照下图所示步骤从 Github 下载资料。\n",
    "<img src='images/ch14.5.png' width='800' align='center'>"
   ]
  },
  {
   "cell_type": "markdown",
   "metadata": {},
   "source": [
    "接下来将游戏角色和背景素材导入游戏，代码如下："
   ]
  },
  {
   "cell_type": "code",
   "execution_count": null,
   "metadata": {},
   "outputs": [],
   "source": [
    "import pyxel\n",
    "\n",
    "\n",
    "class App:\n",
    "    def __init__(self):\n",
    "        pyxel.init(120, 180, caption='Flappy Bird')\n",
    "        self.game_state = 'start'        \n",
    "        pyxel.load('flappy_bird.pyxres')  # 导入游戏素材文件\n",
    "        self.score = 0\n",
    "        self.bird_pos = [30, 80]  # 设置小鸟的位置        \n",
    "        pyxel.run(self.update, self.draw)\n",
    "\n",
    "    def update(self):\n",
    "        if self.game_state == 'start':\n",
    "            if pyxel.btnp(pyxel.KEY_SPACE):  \n",
    "                self.game_state = 'playing'\n",
    "        elif self.game_state == 'playing':\n",
    "            pass\n",
    "\n",
    "    def draw(self):\n",
    "        if self.game_state == 'start':\n",
    "            pyxel.cls(12)\n",
    "            pyxel.text(36, 50, 'Flappy Bird', 8)\n",
    "            pyxel.text(20, 60, 'Press Space to Play!', 1)\n",
    "            pyxel.blt(50, 76, 0, 0, 2, 16, 11, 0)  # 画小鸟\n",
    "        elif self.game_state == 'playing':\n",
    "            pyxel.cls(12)\n",
    "            pyxel.blt(0, 151, 1, 0, 17, 120, 23, 0)  # 画树丛\n",
    "            # 画小鸟\n",
    "            pyxel.blt(\n",
    "                self.bird_pos[0],\n",
    "                self.bird_pos[1],\n",
    "                0, 0, 2, 16, 11, 0)\n",
    "            pyxel.blt(0, 174, 1, 0, 0, 120, 6, 0)  # 画地面\n",
    "            pyxel.text(80, 10, 'Score:' + str(self.score), 2)\n",
    "\n",
    "App()"
   ]
  },
  {
   "cell_type": "markdown",
   "metadata": {},
   "source": [
    "代码中使用了 pyxel.blt() 来绘制角色，它的介绍如下：\n",
    "\n",
    "- blt(x, y, img, u, v, w, h, [colkey])：在坐标（x，y）处绘制游戏素材中以（u，v）为左上角，宽 w，高 h 区域的图像，img 对应素材中图片的编号，colkey 代表当作透明色的颜色，可以省略。\n",
    "\n",
    "是不是听起来很绕，来看一下小鸟在素材中的位置就会明白了。小鸟的左上角坐标为（0，2），宽度 w 为 16，高度 h 为 11，把这个区域中的黑色（对应颜色编号 0）当作透明色，这样在游戏中就不会显示黑色了。所以画小鸟的代码写成了这样：pyxel.blt(self.bird_pos[0], self.bird_pos[1], 0, 0, 2, 16, 11, 0)。按照类似的方式，将地面和树丛也显示出来，由于这两个背景不需要移动，所以坐标是固定的。\n",
    "\n",
    "<img src='images/ch14.6.png' width='400' align='left'>"
   ]
  },
  {
   "cell_type": "markdown",
   "metadata": {},
   "source": [
    "游戏过程中，模拟小鸟受到重力自由下落的过程。按下空格键时小鸟飞跃，代码如下："
   ]
  },
  {
   "cell_type": "code",
   "execution_count": null,
   "metadata": {},
   "outputs": [],
   "source": [
    "import pyxel\n",
    "\n",
    "\n",
    "class App:\n",
    "    def __init__(self):\n",
    "        pyxel.init(120, 180, caption='Flappy Bird')\n",
    "        self.game_state = 'start'        \n",
    "        pyxel.load('flappy_bird.pyxres')  \n",
    "        self.score = 0\n",
    "        self.bird_pos = [30, 80]\n",
    "        self.speed = 0\n",
    "        pyxel.run(self.update, self.draw)\n",
    "\n",
    "    def update(self):\n",
    "        if self.game_state == 'start':\n",
    "            if pyxel.btnp(pyxel.KEY_SPACE):  \n",
    "                self.game_state = 'playing'\n",
    "        elif self.game_state == 'playing':\n",
    "            # 模拟小鸟受重力下落的过程\n",
    "            self.bird_pos[1] += self.speed  \n",
    "            self.speed += 0.35\n",
    "            if pyxel.btnp(pyxel.KEY_SPACE):  \n",
    "                self.speed = -3  # 通过重置 self.speed 实现小鸟飞跃\n",
    "\n",
    "    def draw(self):\n",
    "        if self.game_state == 'start':\n",
    "            pyxel.cls(12)\n",
    "            pyxel.text(36, 50, 'Flappy Bird', 8)\n",
    "            pyxel.text(20, 60, 'Press Space to Play!', 1)\n",
    "            pyxel.blt(50, 76, 0, 0, 2, 16, 11, 0)  \n",
    "        elif self.game_state == 'playing':\n",
    "            pyxel.cls(12)\n",
    "            pyxel.blt(0, 151, 1, 0, 17, 120, 23, 0)  \n",
    "            # 画小鸟\n",
    "            pyxel.blt(\n",
    "                self.bird_pos[0],\n",
    "                self.bird_pos[1],\n",
    "                0, 0, 2, 16, 11, 0)\t\n",
    "            pyxel.blt(0, 174, 1, 0, 0, 120, 6, 0)  \n",
    "            pyxel.text(80, 10, 'Score:' + str(self.score), 2)\n",
    "\n",
    "App()"
   ]
  },
  {
   "cell_type": "markdown",
   "metadata": {},
   "source": [
    "## 3. 移动的管道\n",
    "先从素材中导入管道角色，管道有上下两根，它们之间间隔一定距离。注意，游戏过程中，管道的高度会发生变化，所以上下管道在 pyxel 编辑器中都要画长一点。素材中上管道的长度是 120，假设游戏中设置上管道左下角的坐标为（x1，y1），那么可以得到下图的关系。从素材中导入上管道时，只导入一截管道，所以要计算好素材中管道的左上角坐标。\n",
    "\n",
    "<img src='images/ch14.7.png' width='200' align='left'>"
   ]
  },
  {
   "cell_type": "markdown",
   "metadata": {},
   "source": [
    "根据图中的关系，编写绘制管道角色的程序。游戏过程中，管道从右向左移动，更新管道的 x 坐标即可。"
   ]
  },
  {
   "cell_type": "code",
   "execution_count": null,
   "metadata": {},
   "outputs": [],
   "source": [
    "import pyxel\n",
    "\n",
    "\n",
    "class App:\n",
    "    def __init__(self):\n",
    "        pyxel.init(120, 180, caption='Flappy Bird')\n",
    "        self.game_state = 'start'        \n",
    "        pyxel.load('flappy_bird.pyxres')  \n",
    "        self.score = 0\n",
    "        self.bird_pos = [30, 80] \n",
    "        self.speed = 0\n",
    "        self.pipe_top_pos = [120, 80]  # 设置上管道左下角的坐标\n",
    "        self.pipe_bot_pos = [120, 110]  # 设置下管道左上角的坐标      \n",
    "        pyxel.run(self.update, self.draw)\n",
    "\n",
    "    def update(self):\n",
    "        if self.game_state == 'start':\n",
    "            if pyxel.btnp(pyxel.KEY_SPACE):  \n",
    "                self.game_state = 'playing'\n",
    "        elif self.game_state == 'playing':\n",
    "            self.bird_pos[1] += self.speed  \n",
    "            self.speed += 0.35\n",
    "            if pyxel.btnp(pyxel.KEY_SPACE):  \n",
    "                self.speed = -3  \n",
    "            # 上下管道移动\n",
    "            self.pipe_top_pos[0] -= 2\n",
    "            self.pipe_bot_pos[0] -= 2\n",
    "\n",
    "    def draw(self):\n",
    "        if self.game_state == 'start':\n",
    "            pyxel.cls(12)\n",
    "            pyxel.text(36, 50, 'Flappy Bird', 8)\n",
    "            pyxel.text(20, 60, 'Press Space to Play!', 1)\n",
    "            pyxel.blt(50, 76, 0, 0, 2, 16, 11, 0)  \n",
    "        elif self.game_state == 'playing':\n",
    "            pyxel.cls(12)\n",
    "            pyxel.blt(0, 151, 1, 0, 17, 120, 23, 0)  \n",
    "            # 画小鸟\n",
    "            pyxel.blt(\n",
    "                self.bird_pos[0],\n",
    "                self.bird_pos[1],\n",
    "                0, 0, 2, 16, 11, 0)\n",
    "            # 画上下管道\n",
    "            pipe_length = 120 - self.pipe_top_pos[1]  # 计算素材中上管道的 y 坐标\n",
    "            pyxel.blt(\n",
    "                self.pipe_top_pos[0],\n",
    "                0,\n",
    "                0, 32, pipe_length, 16, self.pipe_top_pos[1], 0)                                \n",
    "            pyxel.blt(\n",
    "                self.pipe_bot_pos[0],\n",
    "                self.pipe_bot_pos[1],\n",
    "                0, 32, 128, 16, 128, 0)\n",
    "            pyxel.blt(0, 174, 1, 0, 0, 120, 6, 0) \n",
    "            pyxel.text(80, 10, 'Score:' + str(self.score), 2)\n",
    "\n",
    "App()"
   ]
  },
  {
   "cell_type": "markdown",
   "metadata": {},
   "source": [
    "### 4. 碰撞检测\n",
    "管道移出屏幕后重置它们的位置到屏幕右侧，重置位置时，要注意上下管道之间的位置关系：x 坐标相同，y 坐标相差 30。当小鸟穿过管道时，得分增加。怎么判断小鸟与管道的碰撞呢？可以通过计算小鸟与上管道之间的距离来进行判断，从 x 和 y 坐标两方面入手。\n",
    "\n",
    "<img src='images/ch14.8.png' width='300' align='left'>"
   ]
  },
  {
   "cell_type": "code",
   "execution_count": null,
   "metadata": {},
   "outputs": [],
   "source": [
    "import pyxel\n",
    "from random import randint  # 导入 randint\n",
    "\n",
    "class App:\n",
    "    def __init__(self):\n",
    "        pyxel.init(120, 180, caption='Flappy Bird')\n",
    "        self.game_state = 'start'        \n",
    "        pyxel.load('flappy_bird.pyxres')  \n",
    "        self.score = 0\n",
    "        self.bird_pos = [30, 80] \n",
    "        self.speed = 0\n",
    "        self.pipe_top_pos = [120, 80]  \n",
    "        self.pipe_bot_pos = [120, 110]  \n",
    "        pyxel.run(self.update, self.draw)\n",
    "\n",
    "    def update(self):\n",
    "        if self.game_state == 'start':\n",
    "            if pyxel.btnp(pyxel.KEY_SPACE):  \n",
    "                self.game_state = 'playing'\n",
    "        elif self.game_state == 'playing':\n",
    "            self.bird_pos[1] += self.speed  \n",
    "            self.speed += 0.35\n",
    "            if pyxel.btnp(pyxel.KEY_SPACE):  \n",
    "                self.speed = -3  \n",
    "            self.pipe_top_pos[0] -= 2\n",
    "            self.pipe_bot_pos[0] -= 2\n",
    "            # 管道移出屏幕重置位置\n",
    "            if self.pipe_top_pos[0] < - 20:\n",
    "                self.pipe_top_pos[0] = randint(160, 240)  # 随机设置上管道 x 坐标\n",
    "                self.pipe_top_pos[1] = randint(60, 120)\n",
    "                self.pipe_bot_pos[0] = self.pipe_top_pos[0]\n",
    "                self.pipe_bot_pos[1] = self.pipe_top_pos[1] + 30\n",
    "            # 计算得分\n",
    "            if self.pipe_top_pos[0] - 12 <= 0 and self.pipe_top_pos[0] - 12 > -2:\n",
    "                self.score += 1\n",
    "            # 碰撞检测\n",
    "            if abs(self.bird_pos[0] - self.pipe_top_pos[0]) < 16:\n",
    "                if self.bird_pos[1] - self.pipe_top_pos[1] > 30 or self.bird_pos[1] - self.pipe_top_pos[1] < 0:\n",
    "                    self.game_state = 'game over'\n",
    "\n",
    "    def draw(self):\n",
    "        if self.game_state == 'start':\n",
    "            pyxel.cls(12)\n",
    "            pyxel.text(36, 50, 'Flappy Bird', 8)\n",
    "            pyxel.text(20, 60, 'Press Space to Play!', 1)\n",
    "            pyxel.blt(50, 76, 0, 0, 2, 16, 11, 0)  \n",
    "        elif self.game_state == 'playing':\n",
    "            pyxel.cls(12)\n",
    "            pyxel.blt(0, 151, 1, 0, 17, 120, 23, 0)  \n",
    "            pyxel.blt(\n",
    "                self.bird_pos[0],\n",
    "                self.bird_pos[1],\n",
    "                0, 0, 2, 16, 11, 0)\n",
    "            pipe_length = 120 - self.pipe_top_pos[1]\n",
    "            pyxel.blt(\n",
    "                self.pipe_top_pos[0],\n",
    "                0,\n",
    "                0, 32, pipe_length, 16, self.pipe_top_pos[1], 0)                                \n",
    "            pyxel.blt(\n",
    "                self.pipe_bot_pos[0],\n",
    "                self.pipe_bot_pos[1],\n",
    "                0, 32, 128, 16, 128, 0)\n",
    "            pyxel.blt(0, 174, 1, 0, 0, 120, 6, 0)\n",
    "            pyxel.text(80, 10, 'Score:' + str(self.score), 2)\n",
    "\n",
    "App()"
   ]
  },
  {
   "cell_type": "markdown",
   "metadata": {},
   "source": [
    "## 游戏升级\n",
    "1. 利用之前制作的游戏音效，添加小鸟飞跃和游戏结束的音效。\n",
    "<br>\n",
    "<br>\n",
    "<br>"
   ]
  },
  {
   "cell_type": "markdown",
   "metadata": {},
   "source": [
    "2. 游戏结束后，添加按下 S 键游戏重新开始的功能。\n",
    "<br>\n",
    "<br>\n",
    "<br>"
   ]
  },
  {
   "cell_type": "code",
   "execution_count": 1,
   "metadata": {},
   "outputs": [
    {
     "data": {
      "text/html": [
       "<iframe frameborder=\"no\" border=\"0\" marginwidth=\"0\" marginheight=\"0\" width=330 height=86 src=\"//music.163.com/outchain/player?type=2&id=471048&auto=0&height=66\"></iframe>"
      ],
      "text/plain": [
       "<IPython.core.display.HTML object>"
      ]
     },
     "execution_count": 1,
     "metadata": {},
     "output_type": "execute_result"
    }
   ],
   "source": [
    "from IPython.display import HTML\n",
    "\n",
    "# video\n",
    "HTML('<iframe frameborder=\"no\" border=\"0\" marginwidth=\"0\" marginheight=\"0\" width=330 height=86 src=\"//music.163.com/outchain/player?type=2&id=471048&auto=0&height=66\"></iframe>')"
   ]
  }
 ],
 "metadata": {
  "kernelspec": {
   "display_name": "Python 3",
   "language": "python",
   "name": "python3"
  },
  "language_info": {
   "codemirror_mode": {
    "name": "ipython",
    "version": 3
   },
   "file_extension": ".py",
   "mimetype": "text/x-python",
   "name": "python",
   "nbconvert_exporter": "python",
   "pygments_lexer": "ipython3",
   "version": "3.7.5"
  }
 },
 "nbformat": 4,
 "nbformat_minor": 2
}
